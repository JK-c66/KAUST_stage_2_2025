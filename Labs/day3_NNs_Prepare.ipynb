{
  "cells": [
    {
      "cell_type": "markdown",
      "metadata": {
        "id": "W7_55iqxR2kF"
      },
      "source": [
        "# Nueral Networks ??\n",
        "- NNs learn features and extracts them in so called (representation learning).\n",
        "- power of neural-network is in the complexity of connections these neurons can form\n",
        "- NNs work better when large amounts of data\n",
        "- NNs require GPUs/TPUs mostly\n"
      ]
    },
    {
      "cell_type": "markdown",
      "metadata": {
        "id": "-EQ7OxYLR2kJ"
      },
      "source": [
        "## single neuron\n",
        "<center>\n",
        "\n",
        "![image.png](attachment:image.png)\n",
        "\n",
        "For the input x, what reaches the neuron is w * x   \n",
        "A neural network \"learns\" by modifying its weights.  \n",
        "The bias enables the neuron to modify the output independently of its inputs.   \n",
        "`y = w * x + b`  \n",
        "\n",
        "</center>"
      ]
    },
    {
      "cell_type": "markdown",
      "metadata": {
        "id": "bngwfw9ZR2kK"
      },
      "source": [
        "<center>\n",
        "\n",
        "![image.png](attachment:image.png)\n",
        "\n",
        "$y = w_0 x_0 + w_1 x_1 + w_2 x_2 + b$\n",
        "\n",
        "</center>"
      ]
    },
    {
      "cell_type": "markdown",
      "metadata": {
        "id": "f-lnur9qR2kK"
      },
      "source": [
        "## activation and more layers\n",
        "Dense layers need activation functions to introduce nonlinearity, enabling complex pattern learning.    \n",
        "An activation function is simply some function we apply to each of a layer's outputs (its activations).\n",
        "The most common is the rectifier function max(0,x) or Tanh\n",
        "\n"
      ]
    },
    {
      "cell_type": "markdown",
      "metadata": {
        "id": "iWtjTp1sR2kL"
      },
      "source": [
        "<center>\n",
        "\n",
        "![image.png](attachment:image.png)              ![image-2.png](attachment:image-2.png)\n",
        "</center>"
      ]
    },
    {
      "cell_type": "markdown",
      "metadata": {
        "id": "BSklGPdxR2kL"
      },
      "source": [
        "<center>\n",
        "\n",
        "![image.png](attachment:image.png)\n",
        "\n",
        "output becomes max(0, w * x + b)\n",
        "\n",
        "</center>"
      ]
    },
    {
      "cell_type": "markdown",
      "metadata": {
        "id": "SRv4XndTR2kM"
      },
      "source": [
        "## optimizer\n",
        "The optimizer is an algorithm that adjusts the weights to minimize the loss.\n",
        "\n",
        "Virtually all of the optimization algorithms used in deep learning belong to a family called stochastic gradient descent.   \n",
        "They are iterative algorithms that train a network in steps. One step of training goes like this:\n",
        "\n",
        "Sample some training data and run it through the network to make predictions.\n",
        "Measure the loss between the predictions and the true values.\n",
        "Finally, adjust the weights in a direction that makes the loss smaller.\n",
        "Then just do this over and over until the loss is as small as you like (or until it won't decrease any further.)\n",
        "\n",
        "<center>\n",
        "\n",
        "![rFI1tIk.gif](attachment:rFI1tIk.gif)  \n",
        "Training a neural network with Stochastic Gradient Descent.\n",
        "\n",
        "\n",
        "Each iteration's sample of training data is called a minibatch (or often just \"batch\"),   \n",
        "while a complete round of the training data is called an epoch.  \n",
        " The number of epochs you train for is how many times the network will see each training example.\n",
        "</center>"
      ]
    },
    {
      "cell_type": "markdown",
      "metadata": {
        "id": "JetHv7YwR2kM"
      },
      "source": [
        "## Example 1: Neural Network with NumPy\n"
      ]
    },
    {
      "cell_type": "code",
      "execution_count": 23,
      "metadata": {
        "id": "-WKUBlDBR2kN"
      },
      "outputs": [],
      "source": [
        "from sklearn.datasets import load_iris\n",
        "import numpy as np\n",
        "import pandas as pd\n",
        "from sklearn.metrics import classification_report, confusion_matrix\n"
      ]
    },
    {
      "cell_type": "code",
      "execution_count": 24,
      "metadata": {
        "id": "VJ7PvxxsR2kO",
        "outputId": "6af6635f-d763-4b80-db97-a1100467e96b",
        "colab": {
          "base_uri": "https://localhost:8080/"
        }
      },
      "outputs": [
        {
          "output_type": "stream",
          "name": "stdout",
          "text": [
            "dict_keys(['data', 'target', 'frame', 'target_names', 'DESCR', 'feature_names', 'filename', 'data_module']) \n",
            "\n",
            "given features: ['sepal length (cm)', 'sepal width (cm)', 'petal length (cm)', 'petal width (cm)']\n",
            "flower names (class names): ['setosa' 'versicolor' 'virginica']\n"
          ]
        }
      ],
      "source": [
        "iris_data = load_iris()  # returns a dict\n",
        "print(iris_data.keys(), '\\n')\n",
        "\n",
        "print('given features:', iris_data['feature_names'])\n",
        "print('flower names (class names):', iris_data['target_names'])"
      ]
    },
    {
      "cell_type": "code",
      "execution_count": 25,
      "metadata": {
        "id": "WfXRzfQ4R2kP",
        "outputId": "365333c0-711a-4d71-a300-80ebcb45c309",
        "colab": {
          "base_uri": "https://localhost:8080/"
        }
      },
      "outputs": [
        {
          "output_type": "stream",
          "name": "stdout",
          "text": [
            "(150, 4)\n"
          ]
        }
      ],
      "source": [
        "print(iris_data['data'].shape)\n",
        "# what does 150 ,4 mean?\n",
        "# 150 is the number of samples\n",
        "# 4 is the number of features"
      ]
    },
    {
      "cell_type": "code",
      "execution_count": 26,
      "metadata": {
        "id": "i1A0cZeNR2kQ",
        "outputId": "3b50d2ac-fb3c-46b9-e237-a62948c4c210",
        "colab": {
          "base_uri": "https://localhost:8080/",
          "height": 363
        }
      },
      "outputs": [
        {
          "output_type": "execute_result",
          "data": {
            "text/plain": [
              "   sepal length (cm)  sepal width (cm)  petal length (cm)  petal width (cm)  \\\n",
              "0                5.1               3.5                1.4               0.2   \n",
              "1                4.9               3.0                1.4               0.2   \n",
              "2                4.7               3.2                1.3               0.2   \n",
              "3                4.6               3.1                1.5               0.2   \n",
              "4                5.0               3.6                1.4               0.2   \n",
              "5                5.4               3.9                1.7               0.4   \n",
              "6                4.6               3.4                1.4               0.3   \n",
              "7                5.0               3.4                1.5               0.2   \n",
              "8                4.4               2.9                1.4               0.2   \n",
              "9                4.9               3.1                1.5               0.1   \n",
              "\n",
              "   target  \n",
              "0       0  \n",
              "1       0  \n",
              "2       0  \n",
              "3       0  \n",
              "4       0  \n",
              "5       0  \n",
              "6       0  \n",
              "7       0  \n",
              "8       0  \n",
              "9       0  "
            ],
            "text/html": [
              "\n",
              "  <div id=\"df-2e49e38d-cbed-49ca-b8f7-08d807cc6ff5\" class=\"colab-df-container\">\n",
              "    <div>\n",
              "<style scoped>\n",
              "    .dataframe tbody tr th:only-of-type {\n",
              "        vertical-align: middle;\n",
              "    }\n",
              "\n",
              "    .dataframe tbody tr th {\n",
              "        vertical-align: top;\n",
              "    }\n",
              "\n",
              "    .dataframe thead th {\n",
              "        text-align: right;\n",
              "    }\n",
              "</style>\n",
              "<table border=\"1\" class=\"dataframe\">\n",
              "  <thead>\n",
              "    <tr style=\"text-align: right;\">\n",
              "      <th></th>\n",
              "      <th>sepal length (cm)</th>\n",
              "      <th>sepal width (cm)</th>\n",
              "      <th>petal length (cm)</th>\n",
              "      <th>petal width (cm)</th>\n",
              "      <th>target</th>\n",
              "    </tr>\n",
              "  </thead>\n",
              "  <tbody>\n",
              "    <tr>\n",
              "      <th>0</th>\n",
              "      <td>5.1</td>\n",
              "      <td>3.5</td>\n",
              "      <td>1.4</td>\n",
              "      <td>0.2</td>\n",
              "      <td>0</td>\n",
              "    </tr>\n",
              "    <tr>\n",
              "      <th>1</th>\n",
              "      <td>4.9</td>\n",
              "      <td>3.0</td>\n",
              "      <td>1.4</td>\n",
              "      <td>0.2</td>\n",
              "      <td>0</td>\n",
              "    </tr>\n",
              "    <tr>\n",
              "      <th>2</th>\n",
              "      <td>4.7</td>\n",
              "      <td>3.2</td>\n",
              "      <td>1.3</td>\n",
              "      <td>0.2</td>\n",
              "      <td>0</td>\n",
              "    </tr>\n",
              "    <tr>\n",
              "      <th>3</th>\n",
              "      <td>4.6</td>\n",
              "      <td>3.1</td>\n",
              "      <td>1.5</td>\n",
              "      <td>0.2</td>\n",
              "      <td>0</td>\n",
              "    </tr>\n",
              "    <tr>\n",
              "      <th>4</th>\n",
              "      <td>5.0</td>\n",
              "      <td>3.6</td>\n",
              "      <td>1.4</td>\n",
              "      <td>0.2</td>\n",
              "      <td>0</td>\n",
              "    </tr>\n",
              "    <tr>\n",
              "      <th>5</th>\n",
              "      <td>5.4</td>\n",
              "      <td>3.9</td>\n",
              "      <td>1.7</td>\n",
              "      <td>0.4</td>\n",
              "      <td>0</td>\n",
              "    </tr>\n",
              "    <tr>\n",
              "      <th>6</th>\n",
              "      <td>4.6</td>\n",
              "      <td>3.4</td>\n",
              "      <td>1.4</td>\n",
              "      <td>0.3</td>\n",
              "      <td>0</td>\n",
              "    </tr>\n",
              "    <tr>\n",
              "      <th>7</th>\n",
              "      <td>5.0</td>\n",
              "      <td>3.4</td>\n",
              "      <td>1.5</td>\n",
              "      <td>0.2</td>\n",
              "      <td>0</td>\n",
              "    </tr>\n",
              "    <tr>\n",
              "      <th>8</th>\n",
              "      <td>4.4</td>\n",
              "      <td>2.9</td>\n",
              "      <td>1.4</td>\n",
              "      <td>0.2</td>\n",
              "      <td>0</td>\n",
              "    </tr>\n",
              "    <tr>\n",
              "      <th>9</th>\n",
              "      <td>4.9</td>\n",
              "      <td>3.1</td>\n",
              "      <td>1.5</td>\n",
              "      <td>0.1</td>\n",
              "      <td>0</td>\n",
              "    </tr>\n",
              "  </tbody>\n",
              "</table>\n",
              "</div>\n",
              "    <div class=\"colab-df-buttons\">\n",
              "\n",
              "  <div class=\"colab-df-container\">\n",
              "    <button class=\"colab-df-convert\" onclick=\"convertToInteractive('df-2e49e38d-cbed-49ca-b8f7-08d807cc6ff5')\"\n",
              "            title=\"Convert this dataframe to an interactive table.\"\n",
              "            style=\"display:none;\">\n",
              "\n",
              "  <svg xmlns=\"http://www.w3.org/2000/svg\" height=\"24px\" viewBox=\"0 -960 960 960\">\n",
              "    <path d=\"M120-120v-720h720v720H120Zm60-500h600v-160H180v160Zm220 220h160v-160H400v160Zm0 220h160v-160H400v160ZM180-400h160v-160H180v160Zm440 0h160v-160H620v160ZM180-180h160v-160H180v160Zm440 0h160v-160H620v160Z\"/>\n",
              "  </svg>\n",
              "    </button>\n",
              "\n",
              "  <style>\n",
              "    .colab-df-container {\n",
              "      display:flex;\n",
              "      gap: 12px;\n",
              "    }\n",
              "\n",
              "    .colab-df-convert {\n",
              "      background-color: #E8F0FE;\n",
              "      border: none;\n",
              "      border-radius: 50%;\n",
              "      cursor: pointer;\n",
              "      display: none;\n",
              "      fill: #1967D2;\n",
              "      height: 32px;\n",
              "      padding: 0 0 0 0;\n",
              "      width: 32px;\n",
              "    }\n",
              "\n",
              "    .colab-df-convert:hover {\n",
              "      background-color: #E2EBFA;\n",
              "      box-shadow: 0px 1px 2px rgba(60, 64, 67, 0.3), 0px 1px 3px 1px rgba(60, 64, 67, 0.15);\n",
              "      fill: #174EA6;\n",
              "    }\n",
              "\n",
              "    .colab-df-buttons div {\n",
              "      margin-bottom: 4px;\n",
              "    }\n",
              "\n",
              "    [theme=dark] .colab-df-convert {\n",
              "      background-color: #3B4455;\n",
              "      fill: #D2E3FC;\n",
              "    }\n",
              "\n",
              "    [theme=dark] .colab-df-convert:hover {\n",
              "      background-color: #434B5C;\n",
              "      box-shadow: 0px 1px 3px 1px rgba(0, 0, 0, 0.15);\n",
              "      filter: drop-shadow(0px 1px 2px rgba(0, 0, 0, 0.3));\n",
              "      fill: #FFFFFF;\n",
              "    }\n",
              "  </style>\n",
              "\n",
              "    <script>\n",
              "      const buttonEl =\n",
              "        document.querySelector('#df-2e49e38d-cbed-49ca-b8f7-08d807cc6ff5 button.colab-df-convert');\n",
              "      buttonEl.style.display =\n",
              "        google.colab.kernel.accessAllowed ? 'block' : 'none';\n",
              "\n",
              "      async function convertToInteractive(key) {\n",
              "        const element = document.querySelector('#df-2e49e38d-cbed-49ca-b8f7-08d807cc6ff5');\n",
              "        const dataTable =\n",
              "          await google.colab.kernel.invokeFunction('convertToInteractive',\n",
              "                                                    [key], {});\n",
              "        if (!dataTable) return;\n",
              "\n",
              "        const docLinkHtml = 'Like what you see? Visit the ' +\n",
              "          '<a target=\"_blank\" href=https://colab.research.google.com/notebooks/data_table.ipynb>data table notebook</a>'\n",
              "          + ' to learn more about interactive tables.';\n",
              "        element.innerHTML = '';\n",
              "        dataTable['output_type'] = 'display_data';\n",
              "        await google.colab.output.renderOutput(dataTable, element);\n",
              "        const docLink = document.createElement('div');\n",
              "        docLink.innerHTML = docLinkHtml;\n",
              "        element.appendChild(docLink);\n",
              "      }\n",
              "    </script>\n",
              "  </div>\n",
              "\n",
              "\n",
              "<div id=\"df-9a530ddf-9dd4-4028-96e7-a92a924d6a93\">\n",
              "  <button class=\"colab-df-quickchart\" onclick=\"quickchart('df-9a530ddf-9dd4-4028-96e7-a92a924d6a93')\"\n",
              "            title=\"Suggest charts\"\n",
              "            style=\"display:none;\">\n",
              "\n",
              "<svg xmlns=\"http://www.w3.org/2000/svg\" height=\"24px\"viewBox=\"0 0 24 24\"\n",
              "     width=\"24px\">\n",
              "    <g>\n",
              "        <path d=\"M19 3H5c-1.1 0-2 .9-2 2v14c0 1.1.9 2 2 2h14c1.1 0 2-.9 2-2V5c0-1.1-.9-2-2-2zM9 17H7v-7h2v7zm4 0h-2V7h2v10zm4 0h-2v-4h2v4z\"/>\n",
              "    </g>\n",
              "</svg>\n",
              "  </button>\n",
              "\n",
              "<style>\n",
              "  .colab-df-quickchart {\n",
              "      --bg-color: #E8F0FE;\n",
              "      --fill-color: #1967D2;\n",
              "      --hover-bg-color: #E2EBFA;\n",
              "      --hover-fill-color: #174EA6;\n",
              "      --disabled-fill-color: #AAA;\n",
              "      --disabled-bg-color: #DDD;\n",
              "  }\n",
              "\n",
              "  [theme=dark] .colab-df-quickchart {\n",
              "      --bg-color: #3B4455;\n",
              "      --fill-color: #D2E3FC;\n",
              "      --hover-bg-color: #434B5C;\n",
              "      --hover-fill-color: #FFFFFF;\n",
              "      --disabled-bg-color: #3B4455;\n",
              "      --disabled-fill-color: #666;\n",
              "  }\n",
              "\n",
              "  .colab-df-quickchart {\n",
              "    background-color: var(--bg-color);\n",
              "    border: none;\n",
              "    border-radius: 50%;\n",
              "    cursor: pointer;\n",
              "    display: none;\n",
              "    fill: var(--fill-color);\n",
              "    height: 32px;\n",
              "    padding: 0;\n",
              "    width: 32px;\n",
              "  }\n",
              "\n",
              "  .colab-df-quickchart:hover {\n",
              "    background-color: var(--hover-bg-color);\n",
              "    box-shadow: 0 1px 2px rgba(60, 64, 67, 0.3), 0 1px 3px 1px rgba(60, 64, 67, 0.15);\n",
              "    fill: var(--button-hover-fill-color);\n",
              "  }\n",
              "\n",
              "  .colab-df-quickchart-complete:disabled,\n",
              "  .colab-df-quickchart-complete:disabled:hover {\n",
              "    background-color: var(--disabled-bg-color);\n",
              "    fill: var(--disabled-fill-color);\n",
              "    box-shadow: none;\n",
              "  }\n",
              "\n",
              "  .colab-df-spinner {\n",
              "    border: 2px solid var(--fill-color);\n",
              "    border-color: transparent;\n",
              "    border-bottom-color: var(--fill-color);\n",
              "    animation:\n",
              "      spin 1s steps(1) infinite;\n",
              "  }\n",
              "\n",
              "  @keyframes spin {\n",
              "    0% {\n",
              "      border-color: transparent;\n",
              "      border-bottom-color: var(--fill-color);\n",
              "      border-left-color: var(--fill-color);\n",
              "    }\n",
              "    20% {\n",
              "      border-color: transparent;\n",
              "      border-left-color: var(--fill-color);\n",
              "      border-top-color: var(--fill-color);\n",
              "    }\n",
              "    30% {\n",
              "      border-color: transparent;\n",
              "      border-left-color: var(--fill-color);\n",
              "      border-top-color: var(--fill-color);\n",
              "      border-right-color: var(--fill-color);\n",
              "    }\n",
              "    40% {\n",
              "      border-color: transparent;\n",
              "      border-right-color: var(--fill-color);\n",
              "      border-top-color: var(--fill-color);\n",
              "    }\n",
              "    60% {\n",
              "      border-color: transparent;\n",
              "      border-right-color: var(--fill-color);\n",
              "    }\n",
              "    80% {\n",
              "      border-color: transparent;\n",
              "      border-right-color: var(--fill-color);\n",
              "      border-bottom-color: var(--fill-color);\n",
              "    }\n",
              "    90% {\n",
              "      border-color: transparent;\n",
              "      border-bottom-color: var(--fill-color);\n",
              "    }\n",
              "  }\n",
              "</style>\n",
              "\n",
              "  <script>\n",
              "    async function quickchart(key) {\n",
              "      const quickchartButtonEl =\n",
              "        document.querySelector('#' + key + ' button');\n",
              "      quickchartButtonEl.disabled = true;  // To prevent multiple clicks.\n",
              "      quickchartButtonEl.classList.add('colab-df-spinner');\n",
              "      try {\n",
              "        const charts = await google.colab.kernel.invokeFunction(\n",
              "            'suggestCharts', [key], {});\n",
              "      } catch (error) {\n",
              "        console.error('Error during call to suggestCharts:', error);\n",
              "      }\n",
              "      quickchartButtonEl.classList.remove('colab-df-spinner');\n",
              "      quickchartButtonEl.classList.add('colab-df-quickchart-complete');\n",
              "    }\n",
              "    (() => {\n",
              "      let quickchartButtonEl =\n",
              "        document.querySelector('#df-9a530ddf-9dd4-4028-96e7-a92a924d6a93 button');\n",
              "      quickchartButtonEl.style.display =\n",
              "        google.colab.kernel.accessAllowed ? 'block' : 'none';\n",
              "    })();\n",
              "  </script>\n",
              "</div>\n",
              "\n",
              "    </div>\n",
              "  </div>\n"
            ],
            "application/vnd.google.colaboratory.intrinsic+json": {
              "type": "dataframe",
              "variable_name": "df",
              "summary": "{\n  \"name\": \"df\",\n  \"rows\": 150,\n  \"fields\": [\n    {\n      \"column\": \"sepal length (cm)\",\n      \"properties\": {\n        \"dtype\": \"number\",\n        \"std\": 0.8280661279778629,\n        \"min\": 4.3,\n        \"max\": 7.9,\n        \"num_unique_values\": 35,\n        \"samples\": [\n          6.2,\n          4.5,\n          5.6\n        ],\n        \"semantic_type\": \"\",\n        \"description\": \"\"\n      }\n    },\n    {\n      \"column\": \"sepal width (cm)\",\n      \"properties\": {\n        \"dtype\": \"number\",\n        \"std\": 0.435866284936698,\n        \"min\": 2.0,\n        \"max\": 4.4,\n        \"num_unique_values\": 23,\n        \"samples\": [\n          2.3,\n          4.0,\n          3.5\n        ],\n        \"semantic_type\": \"\",\n        \"description\": \"\"\n      }\n    },\n    {\n      \"column\": \"petal length (cm)\",\n      \"properties\": {\n        \"dtype\": \"number\",\n        \"std\": 1.7652982332594667,\n        \"min\": 1.0,\n        \"max\": 6.9,\n        \"num_unique_values\": 43,\n        \"samples\": [\n          6.7,\n          3.8,\n          3.7\n        ],\n        \"semantic_type\": \"\",\n        \"description\": \"\"\n      }\n    },\n    {\n      \"column\": \"petal width (cm)\",\n      \"properties\": {\n        \"dtype\": \"number\",\n        \"std\": 0.7622376689603465,\n        \"min\": 0.1,\n        \"max\": 2.5,\n        \"num_unique_values\": 22,\n        \"samples\": [\n          0.2,\n          1.2,\n          1.3\n        ],\n        \"semantic_type\": \"\",\n        \"description\": \"\"\n      }\n    },\n    {\n      \"column\": \"target\",\n      \"properties\": {\n        \"dtype\": \"number\",\n        \"std\": 0,\n        \"min\": 0,\n        \"max\": 2,\n        \"num_unique_values\": 3,\n        \"samples\": [\n          0,\n          1,\n          2\n        ],\n        \"semantic_type\": \"\",\n        \"description\": \"\"\n      }\n    }\n  ]\n}"
            }
          },
          "metadata": {},
          "execution_count": 26
        }
      ],
      "source": [
        "df = pd.DataFrame(iris_data['data'], columns=iris_data['feature_names'])\n",
        "df['target'] = iris_data['target']\n",
        "df.head(10)\n"
      ]
    },
    {
      "cell_type": "code",
      "execution_count": 27,
      "metadata": {
        "id": "RVce657yR2kR",
        "outputId": "11b44150-a352-429c-c5b3-ac0bd731a890",
        "colab": {
          "base_uri": "https://localhost:8080/"
        }
      },
      "outputs": [
        {
          "output_type": "stream",
          "name": "stdout",
          "text": [
            "DataFrame Info:\n",
            "<class 'pandas.core.frame.DataFrame'>\n",
            "RangeIndex: 150 entries, 0 to 149\n",
            "Data columns (total 5 columns):\n",
            " #   Column             Non-Null Count  Dtype  \n",
            "---  ------             --------------  -----  \n",
            " 0   sepal length (cm)  150 non-null    float64\n",
            " 1   sepal width (cm)   150 non-null    float64\n",
            " 2   petal length (cm)  150 non-null    float64\n",
            " 3   petal width (cm)   150 non-null    float64\n",
            " 4   target             150 non-null    int64  \n",
            "dtypes: float64(4), int64(1)\n",
            "memory usage: 6.0 KB\n"
          ]
        }
      ],
      "source": [
        "print(\"DataFrame Info:\")\n",
        "df.info()"
      ]
    },
    {
      "cell_type": "code",
      "execution_count": 28,
      "metadata": {
        "id": "sVl0zfMgR2kS",
        "outputId": "973daefd-3e79-4043-a93a-33c12b1c1a88",
        "colab": {
          "base_uri": "https://localhost:8080/"
        }
      },
      "outputs": [
        {
          "output_type": "stream",
          "name": "stdout",
          "text": [
            "Flower type distribution:\n",
            "setosa: 50 samples\n",
            "versicolor: 50 samples\n",
            "virginica: 50 samples\n"
          ]
        }
      ],
      "source": [
        "print(\"Flower type distribution:\")\n",
        "for i, flower in enumerate(iris_data['target_names']):\n",
        "    count = (iris_data['target'] == i).sum()\n",
        "    print(f\"{flower}: {count} samples\")"
      ]
    },
    {
      "cell_type": "code",
      "execution_count": 29,
      "metadata": {
        "id": "UYuACYYdR2kS",
        "outputId": "00bba7c1-fc4f-42e2-e316-ebb9f2eebc4f",
        "colab": {
          "base_uri": "https://localhost:8080/"
        }
      },
      "outputs": [
        {
          "output_type": "stream",
          "name": "stdout",
          "text": [
            "X shape: (150, 4)\n",
            "y shape: (150,)\n"
          ]
        }
      ],
      "source": [
        "X = iris_data['data']    # all features\n",
        "y = iris_data['target']  # all targets\n",
        "\n",
        "print(\"X shape:\", X.shape)  # should be (150, 4)\n",
        "print(\"y shape:\", y.shape)  # should be (150,)"
      ]
    },
    {
      "cell_type": "code",
      "execution_count": 30,
      "metadata": {
        "id": "9bYDWgKnR2kT",
        "outputId": "2c77c80d-4a26-4e61-9edf-fb847bc89666",
        "colab": {
          "base_uri": "https://localhost:8080/"
        }
      },
      "outputs": [
        {
          "output_type": "stream",
          "name": "stdout",
          "text": [
            "   sepal length (cm)  sepal width (cm)  petal length (cm)  petal width (cm)\n",
            "0                5.1               3.5                1.4               0.2\n",
            "1                4.9               3.0                1.4               0.2\n",
            "2                4.7               3.2                1.3               0.2\n",
            "3                4.6               3.1                1.5               0.2\n",
            "4                5.0               3.6                1.4               0.2\n",
            "5                5.4               3.9                1.7               0.4\n",
            "6                4.6               3.4                1.4               0.3\n",
            "7                5.0               3.4                1.5               0.2\n",
            "8                4.4               2.9                1.4               0.2\n",
            "9                4.9               3.1                1.5               0.1\n",
            "\n",
            "[0 0 0 0 0 0 0 0 0 0 0 0 0 0 0 0 0 0 0 0 0 0 0 0 0 0 0 0 0 0 0 0 0 0 0 0 0\n",
            " 0 0 0 0 0 0 0 0 0 0 0 0 0 1 1 1 1 1 1 1 1 1 1 1 1 1 1 1 1 1 1 1 1 1 1 1 1\n",
            " 1 1 1 1 1 1 1 1 1 1 1 1 1 1 1 1 1 1 1 1 1 1 1 1 1 1 2 2 2 2 2 2 2 2 2 2 2\n",
            " 2 2 2 2 2 2 2 2 2 2 2 2 2 2 2 2 2 2 2 2 2 2 2 2 2 2 2 2 2 2 2 2 2 2 2 2 2\n",
            " 2 2]\n"
          ]
        }
      ],
      "source": [
        "print(pd.DataFrame(X[:10], columns=iris_data['feature_names']))\n",
        "print()\n",
        "print(y[:])"
      ]
    },
    {
      "cell_type": "code",
      "execution_count": 31,
      "metadata": {
        "id": "7RjQJRPZR2kU",
        "outputId": "c758396b-9131-4fb6-a4e2-ed4c9d3bb089",
        "colab": {
          "base_uri": "https://localhost:8080/"
        }
      },
      "outputs": [
        {
          "output_type": "stream",
          "name": "stdout",
          "text": [
            "Samples for each flower type:\n",
            "\n",
            "setosa:\n",
            "Original label: 0\n",
            "One-hot encoded: [1. 0. 0.]\n",
            "\n",
            "versicolor:\n",
            "Original label: 1\n",
            "One-hot encoded: [0. 1. 0.]\n",
            "\n",
            "virginica:\n",
            "Original label: 2\n",
            "One-hot encoded: [0. 0. 1.]\n"
          ]
        }
      ],
      "source": [
        "# Convert labels to one-hot encoded format\n",
        "def one_hot_encode(y):\n",
        "    # This function converts numeric labels into one-hot encoded format\n",
        "    # For example, if y = [0, 1, 2], it becomes:\n",
        "    # [[1, 0, 0],\n",
        "    #  [0, 1, 0],\n",
        "    #  [0, 0, 1]]\n",
        "\n",
        "    n_classes = 3  # we have 3 flower types (setosa, versicolor, virginica)\n",
        "    n_samples = len(y)  # number of samples in the dataset\n",
        "\n",
        "    # Create a zero matrix of shape (n_samples, n_classes)\n",
        "    one_hot = np.zeros((n_samples, n_classes))\n",
        "\n",
        "    # For each sample, set the corresponding class position to 1\n",
        "    # If y[i] = 0, then one_hot[i,0] = 1\n",
        "    # If y[i] = 1, then one_hot[i,1] = 1\n",
        "    # If y[i] = 2, then one_hot[i,2] = 1\n",
        "    for i in range(n_samples):\n",
        "        one_hot[i, y[i]] = 1\n",
        "    return one_hot\n",
        "\n",
        "y_encoded = one_hot_encode(y)\n",
        "\n",
        "print(\"Samples for each flower type:\")\n",
        "for i, flower in enumerate(iris_data['target_names']):\n",
        "    sample_idx = np.where(y == i)[0][0]\n",
        "    print(f\"\\n{flower}:\")\n",
        "    print(f\"Original label: {y[sample_idx]}\")\n",
        "    print(f\"One-hot encoded: {y_encoded[sample_idx]}\")"
      ]
    },
    {
      "cell_type": "code",
      "execution_count": 32,
      "metadata": {
        "id": "J9-tsB9IR2kU"
      },
      "outputs": [],
      "source": [
        "from sklearn.model_selection import train_test_split\n",
        "\n",
        "# First split the raw data\n",
        "X_train, X_test, y_train, y_test = train_test_split(\n",
        "    X, y_encoded,\n",
        "    test_size=0.2,\n",
        "    random_state=24489,\n",
        "    shuffle=True\n",
        ")\n"
      ]
    },
    {
      "cell_type": "code",
      "execution_count": 33,
      "metadata": {
        "id": "hsZQT3caR2kV",
        "outputId": "1c88b7d1-9fc8-4d1c-988d-f4393566aaf5",
        "colab": {
          "base_uri": "https://localhost:8080/"
        }
      },
      "outputs": [
        {
          "output_type": "stream",
          "name": "stdout",
          "text": [
            "Training set shapes:\n",
            "X_train: (120, 4)\n",
            "y_train: (120, 3)\n",
            "\n",
            "Test set shapes:\n",
            "X_test: (30, 4)\n",
            "y_test: (30, 3)\n"
          ]
        }
      ],
      "source": [
        "print(\"Training set shapes:\")\n",
        "print(\"X_train:\", X_train.shape)  # Should be (120, 4)\n",
        "print(\"y_train:\", y_train.shape)  # Should be (120, 3)\n",
        "print(\"\\nTest set shapes:\")\n",
        "print(\"X_test:\", X_test.shape)    # Should be (30, 4)\n",
        "print(\"y_test:\", y_test.shape)    # Should be (30, 3)"
      ]
    },
    {
      "cell_type": "markdown",
      "metadata": {
        "id": "u0JkFcPAR2kV"
      },
      "source": [
        "![image.png](attachment:image.png)"
      ]
    },
    {
      "cell_type": "code",
      "execution_count": 34,
      "metadata": {
        "id": "ObSqO2IhR2kW"
      },
      "outputs": [],
      "source": [
        "learning_rate = 0.1\n",
        "EPOCHS = 500\n",
        "\n",
        "ni = 4\n",
        "nh = 8\n",
        "no = 3"
      ]
    },
    {
      "cell_type": "code",
      "execution_count": 35,
      "metadata": {
        "id": "YPKfNhLfR2kW",
        "outputId": "95a7a10e-c011-4bbe-e90e-2c5670bfbd54",
        "colab": {
          "base_uri": "https://localhost:8080/"
        }
      },
      "outputs": [
        {
          "output_type": "stream",
          "name": "stdout",
          "text": [
            "[For-loop] Epoch 0, Loss: 9.1648, Training Accuracy: 0.3417\n",
            "[For-loop] Epoch 100, Loss: 0.5075, Training Accuracy: 0.6917\n",
            "[For-loop] Epoch 200, Loss: 0.4134, Training Accuracy: 0.8583\n",
            "[For-loop] Epoch 300, Loss: 0.3152, Training Accuracy: 0.8833\n",
            "[For-loop] Epoch 400, Loss: 0.2704, Training Accuracy: 0.8667\n",
            "\n",
            "[For-loop] Test Results:\n",
            "Test Accuracy: 0.9333\n",
            "\n",
            "Detailed Classification Report:\n",
            "              precision    recall  f1-score   support\n",
            "\n",
            "      setosa       1.00      1.00      1.00         8\n",
            "  versicolor       0.89      0.89      0.89         9\n",
            "   virginica       0.92      0.92      0.92        13\n",
            "\n",
            "    accuracy                           0.93        30\n",
            "   macro avg       0.94      0.94      0.94        30\n",
            "weighted avg       0.93      0.93      0.93        30\n",
            "\n",
            "\n",
            "Confusion Matrix:\n",
            "[[ 8  0  0]\n",
            " [ 0  8  1]\n",
            " [ 0  1 12]]\n"
          ]
        }
      ],
      "source": [
        "def initialize_parameters(input_size, hidden_size, output_size):\n",
        "    W1 = np.random.randn(input_size, hidden_size)\n",
        "    b1 = np.zeros((1, hidden_size))\n",
        "    W2 = np.random.randn(hidden_size, output_size)\n",
        "    b2 = np.zeros((1, output_size))\n",
        "    return W1, b1, W2, b2\n",
        "\n",
        "def relu(x):\n",
        "    return np.maximum(0, x)\n",
        "\n",
        "def relu_derivative(x):\n",
        "    return np.where(x > 0, 1, 0)\n",
        "\n",
        "def softmax(x):\n",
        "        # Formula: softmax(x_i) = exp(x_i) / Σ(exp(x_j)) for j=1...K\n",
        "        # Numerically stable version:\n",
        "        # softmax(x_i) = exp(x_i - max(x)) / Σ(exp(x_j - max(x))) for j=1...K\n",
        "        exp_x = np.exp(x - np.max(x, axis=1, keepdims=True))  # Subtract max for numerical stability\n",
        "        return exp_x / np.sum(exp_x, axis=1, keepdims=True)   # Normalize to get probabilities\n",
        "\n",
        "def cross_entropy_loss(y_true, y_hat, epsilon=1e-15):\n",
        "        # Add small epsilon (1e-15) to prevent log(0) which is undefined\n",
        "        y_hat = y_hat + epsilon\n",
        "\n",
        "        # Cross entropy loss formula: -(1/m)∑(y_true * log(y_hat))\n",
        "        # where:\n",
        "        # y_true is one-hot encoded labels (shape: [batch_size, num_classes])\n",
        "        # y_hat is predicted probabilities (shape: [batch_size, num_classes])\n",
        "        # y_true.shape[0] is batch_size (m)\n",
        "        return -np.sum(y_true * np.log(y_hat)) / y_true.shape[0]\n",
        "\n",
        "np.random.seed(29387523)\n",
        "\n",
        "W1, b1, W2, b2 = initialize_parameters(ni, nh, no)\n",
        "\n",
        "for epoch in range(EPOCHS):\n",
        "    # Forward pass\n",
        "    Z1 = X_train @ W1 + b1\n",
        "    A1 = relu(Z1)\n",
        "    Z2 = A1 @ W2 + b2\n",
        "    A2 = softmax(Z2)\n",
        "\n",
        "    # Calculate loss\n",
        "    loss = cross_entropy_loss(y_train, A2)\n",
        "\n",
        "    # Backward pass\n",
        "    m = X_train.shape[0]\n",
        "    dZ2 = A2 - y_train\n",
        "    dW2 = (1/m) * (A1.T @ dZ2)\n",
        "    db2 = (1/m) * np.sum(dZ2, axis=0, keepdims=True)\n",
        "\n",
        "    dZ1 = (dZ2 @ W2.T) * relu_derivative(Z1)\n",
        "    dW1 = (1/m) * (X_train.T @ dZ1)\n",
        "    db1 = (1/m) * np.sum(dZ1, axis=0, keepdims=True)\n",
        "\n",
        "    # Update parameters\n",
        "    learning_rate = 0.1\n",
        "    W1 -= learning_rate * dW1\n",
        "    b1 -= learning_rate * db1\n",
        "    W2 -= learning_rate * dW2\n",
        "    b2 -= learning_rate * db2\n",
        "\n",
        "    # Print progress every 100 epochs\n",
        "    if epoch % 100 == 0:\n",
        "        train_pred = np.argmax(A2, axis=1)\n",
        "        train_true = np.argmax(y_train, axis=1)\n",
        "        train_acc = np.mean(train_pred == train_true)\n",
        "        print(f\"[For-loop] Epoch {epoch}, Loss: {loss:.4f}, Training Accuracy: {train_acc:.4f}\")\n",
        "\n",
        "# Test evaluation\n",
        "\n",
        "# Forward pass\n",
        "Z1_test = X_test @ W1 + b1\n",
        "A1_test = relu(Z1_test)\n",
        "Z2_test = A1_test @ W2 + b2\n",
        "\n",
        "predictions = softmax(Z2_test)\n",
        "pred_labels = np.argmax(predictions, axis=1)\n",
        "true_labels = np.argmax(y_test, axis=1)\n",
        "\n",
        "print(\"\\n[For-loop] Test Results:\")\n",
        "print(f\"Test Accuracy: {np.mean(pred_labels == true_labels):.4f}\")\n",
        "print(\"\\nDetailed Classification Report:\")\n",
        "print(classification_report(true_labels, pred_labels,\n",
        "                          target_names=iris_data['target_names']))\n",
        "print(\"\\nConfusion Matrix:\")\n",
        "print(confusion_matrix(true_labels, pred_labels))\n"
      ]
    },
    {
      "cell_type": "markdown",
      "metadata": {
        "id": "Oh5ZF0bcR2kX"
      },
      "source": [
        "## using classes"
      ]
    },
    {
      "cell_type": "code",
      "execution_count": 36,
      "metadata": {
        "id": "54-E9iAqR2kY"
      },
      "outputs": [],
      "source": [
        "class NeuralNetwork_numpy:\n",
        "    def __init__(self, input_size, hidden_size, output_size):\n",
        "        # Initialize weights and biases:\n",
        "        # W1, b1 are for the first (hidden) layer\n",
        "        # W2, b2 are for the second (output) layer\n",
        "        self.W1 = np.random.randn(input_size, hidden_size)\n",
        "        self.b1 = np.zeros((1, hidden_size))\n",
        "        self.W2 = np.random.randn(hidden_size, output_size)\n",
        "        self.b2 = np.zeros((1, output_size))\n",
        "\n",
        "    def forward(self, X):\n",
        "        # Forward pass exactly as in equations\n",
        "        self.Z1 = X @ self.W1 + self.b1\n",
        "        self.A1 = self.relu(self.Z1)        # σ(Z[1])\n",
        "\n",
        "        self.Z2 = self.A1 @ self.W2 + self.b2\n",
        "        self.A2 = self.softmax(self.Z2)        # σ(Z[2])\n",
        "\n",
        "        return self.A2\n",
        "\n",
        "    def backward(self, X, Y):\n",
        "        m = X.shape[0] # 120 in this case\n",
        "\n",
        "        # Output layer\n",
        "        dZ2 = self.A2 - Y                    # dZ[2] = A[2] - Y\n",
        "        dW2 = (1/m) * (self.A1.T @ dZ2)     # dW[2] = (1/m) * dZ[2]A[1]T\n",
        "        db2 = (1/m) * np.sum(dZ2, axis=0, keepdims=True)\n",
        "\n",
        "        # Hidden layer\n",
        "        dZ1 = (dZ2 @ self.W2.T) * self.relu_derivative(self.Z1)  # dZ[1] = W[2]T dZ[2] * g'(Z[1])\n",
        "        dW1 = (1/m) * (X.T @ dZ1)           # dW[1] = (1/m) * dZ[1]XT\n",
        "        db1 = (1/m) * np.sum(dZ1, axis=0, keepdims=True)\n",
        "\n",
        "        return dW1, db1, dW2, db2\n",
        "\n",
        "    def update_params(self, dW1, db1, dW2, db2, learning_rate):\n",
        "        self.W1 -= learning_rate * dW1\n",
        "        self.b1 -= learning_rate * db1\n",
        "        self.W2 -= learning_rate * dW2\n",
        "        self.b2 -= learning_rate * db2\n",
        "\n",
        "    def relu(self, x):\n",
        "        return np.maximum(0, x)\n",
        "\n",
        "    def relu_derivative(self, x):\n",
        "        return np.where(x > 0, 1, 0)\n",
        "\n",
        "    def softmax(self, x):\n",
        "        # Formula: softmax(x_i) = exp(x_i) / Σ(exp(x_j)) for j=1...K\n",
        "        # Numerically stable version:\n",
        "        # softmax(x_i) = exp(x_i - max(x)) / Σ(exp(x_j - max(x))) for j=1...K\n",
        "        exp_x = np.exp(x - np.max(x, axis=1, keepdims=True))  # Subtract max for numerical stability\n",
        "        return exp_x / np.sum(exp_x, axis=1, keepdims=True)   # Normalize to get probabilities\n",
        "\n",
        "\n",
        "\n",
        "    def cross_entropy_loss(self, y_true, y_hat, epsilon=1e-15):\n",
        "        # Add small epsilon (1e-15) to prevent log(0) which is undefined\n",
        "        y_hat = y_hat + epsilon\n",
        "\n",
        "        # Cross entropy loss formula: -(1/m)∑(y_true * log(y_hat))\n",
        "        # where:\n",
        "        # y_true is one-hot encoded labels (shape: [batch_size, num_classes])\n",
        "        # y_hat is predicted probabilities (shape: [batch_size, num_classes])\n",
        "        # y_true.shape[0] is batch_size (m)\n",
        "        return -np.sum(y_true * np.log(y_hat)) / y_true.shape[0]"
      ]
    },
    {
      "cell_type": "code",
      "execution_count": 37,
      "metadata": {
        "id": "exf0ggHQR2kY",
        "outputId": "1ac0bcce-3986-432b-cc98-79aa901e7ef1",
        "colab": {
          "base_uri": "https://localhost:8080/"
        }
      },
      "outputs": [
        {
          "output_type": "stream",
          "name": "stdout",
          "text": [
            "Epoch 0, Loss: 9.1648, Training Accuracy: 0.3417\n",
            "Epoch 100, Loss: 0.5075, Training Accuracy: 0.6917\n",
            "Epoch 200, Loss: 0.4134, Training Accuracy: 0.8583\n",
            "Epoch 300, Loss: 0.3152, Training Accuracy: 0.8833\n",
            "Epoch 400, Loss: 0.2704, Training Accuracy: 0.8667\n",
            "Test Accuracy: 0.9333\n",
            "\n",
            "Detailed Classification Report:\n",
            "              precision    recall  f1-score   support\n",
            "\n",
            "      setosa       1.00      1.00      1.00         8\n",
            "  versicolor       0.89      0.89      0.89         9\n",
            "   virginica       0.92      0.92      0.92        13\n",
            "\n",
            "    accuracy                           0.93        30\n",
            "   macro avg       0.94      0.94      0.94        30\n",
            "weighted avg       0.93      0.93      0.93        30\n",
            "\n",
            "\n",
            "Confusion Matrix:\n",
            "[[ 8  0  0]\n",
            " [ 0  8  1]\n",
            " [ 0  1 12]]\n"
          ]
        }
      ],
      "source": [
        "np.random.seed(29387523)\n",
        "\n",
        "nn = NeuralNetwork_numpy(input_size=ni, hidden_size=nh, output_size=no)\n",
        "\n",
        "# Training loop\n",
        "for epoch in range(EPOCHS):\n",
        "\n",
        "    # Forward pass\n",
        "    y_hat = nn.forward(X_train)\n",
        "\n",
        "    # Calculate loss\n",
        "    loss = nn.cross_entropy_loss(y_train, y_hat)\n",
        "\n",
        "    # Backward pass and update\n",
        "    dW1, db1, dW2, db2 = nn.backward(X_train, y_train)\n",
        "    nn.update_params(dW1, db1, dW2, db2, learning_rate)\n",
        "\n",
        "    # Print progress every 100 epochs\n",
        "    if epoch % 100 == 0:\n",
        "        # Convert predicted probabilities to class labels (0, 1, or 2)\n",
        "        train_pred = np.argmax(y_hat, axis=1)\n",
        "\n",
        "        # Convert one-hot encoded true labels to class labels (0, 1, or 2)\n",
        "        train_true = np.argmax(y_train, axis=1)\n",
        "\n",
        "        # Calculate accuracy by comparing predicted vs true labels\n",
        "        # np.mean() of boolean array gives fraction of correct predictions\n",
        "        train_acc = np.mean(train_pred == train_true)\n",
        "        print(f\"Epoch {epoch}, Loss: {loss:.4f}, Training Accuracy: {train_acc:.4f}\")\n",
        "\n",
        "# Test evaluation\n",
        "predictions = nn.forward(X_test)\n",
        "pred_labels = np.argmax(predictions, axis=1)\n",
        "true_labels = np.argmax(y_test, axis=1)\n",
        "\n",
        "print(f\"Test Accuracy: {np.mean(pred_labels == true_labels):.4f}\")\n",
        "print(\"\\nDetailed Classification Report:\")\n",
        "print(classification_report(true_labels, pred_labels,\n",
        "                          target_names=iris_data['target_names']))\n",
        "print(\"\\nConfusion Matrix:\")\n",
        "print(confusion_matrix(true_labels, pred_labels))"
      ]
    },
    {
      "cell_type": "markdown",
      "metadata": {
        "id": "_ZVfRic9R2kZ"
      },
      "source": [
        "# Neural Network with Pytorch"
      ]
    },
    {
      "cell_type": "code",
      "source": [
        "pip install torch-adopt"
      ],
      "metadata": {
        "id": "tnqfylQgSGOD",
        "outputId": "7a5b92b7-4b66-4434-cadf-1e29af0c407c",
        "colab": {
          "base_uri": "https://localhost:8080/"
        }
      },
      "execution_count": 38,
      "outputs": [
        {
          "output_type": "stream",
          "name": "stdout",
          "text": [
            "Requirement already satisfied: torch-adopt in /usr/local/lib/python3.10/dist-packages (0.1.0)\n",
            "Requirement already satisfied: torch>=2.5.0 in /usr/local/lib/python3.10/dist-packages (from torch-adopt) (2.5.1+cu121)\n",
            "Requirement already satisfied: filelock in /usr/local/lib/python3.10/dist-packages (from torch>=2.5.0->torch-adopt) (3.16.1)\n",
            "Requirement already satisfied: typing-extensions>=4.8.0 in /usr/local/lib/python3.10/dist-packages (from torch>=2.5.0->torch-adopt) (4.12.2)\n",
            "Requirement already satisfied: networkx in /usr/local/lib/python3.10/dist-packages (from torch>=2.5.0->torch-adopt) (3.4.2)\n",
            "Requirement already satisfied: jinja2 in /usr/local/lib/python3.10/dist-packages (from torch>=2.5.0->torch-adopt) (3.1.4)\n",
            "Requirement already satisfied: fsspec in /usr/local/lib/python3.10/dist-packages (from torch>=2.5.0->torch-adopt) (2024.10.0)\n",
            "Requirement already satisfied: sympy==1.13.1 in /usr/local/lib/python3.10/dist-packages (from torch>=2.5.0->torch-adopt) (1.13.1)\n",
            "Requirement already satisfied: mpmath<1.4,>=1.1.0 in /usr/local/lib/python3.10/dist-packages (from sympy==1.13.1->torch>=2.5.0->torch-adopt) (1.3.0)\n",
            "Requirement already satisfied: MarkupSafe>=2.0 in /usr/local/lib/python3.10/dist-packages (from jinja2->torch>=2.5.0->torch-adopt) (3.0.2)\n"
          ]
        }
      ]
    },
    {
      "cell_type": "code",
      "execution_count": 39,
      "metadata": {
        "id": "cX2KpWNDR2kZ"
      },
      "outputs": [],
      "source": [
        "import torch\n",
        "import torch.nn as nn\n",
        "import torch.optim as optim\n",
        "from adopt import ADOPT #pip install torch-adopt"
      ]
    },
    {
      "cell_type": "code",
      "execution_count": 40,
      "metadata": {
        "id": "TJDwOd7vR2kZ"
      },
      "outputs": [],
      "source": [
        "class Pytorch_model(nn.Module):\n",
        "    def __init__(self, input_size=ni, hidden_size=nh, output_size=no):\n",
        "        super(Pytorch_model, self).__init__()\n",
        "        # Define layers\n",
        "        self.layer1 = nn.Linear(input_size, hidden_size)\n",
        "        self.layer2 = nn.Linear(hidden_size, output_size)\n",
        "        self.relu = nn.ReLU()\n",
        "        # self.softmax = nn.Softmax(dim=1)\n",
        "\n",
        "    def forward(self, x):\n",
        "        # Forward pass\n",
        "        x = self.layer1(x)\n",
        "        x = self.relu(x)\n",
        "        x = self.layer2(x)\n",
        "        # x = self.softmax(x)\n",
        "        return x"
      ]
    },
    {
      "cell_type": "markdown",
      "metadata": {
        "id": "UDk8nuidR2ka"
      },
      "source": [
        "## SGD and Adam and AdamW"
      ]
    },
    {
      "cell_type": "code",
      "execution_count": 41,
      "metadata": {
        "id": "kbuG4BQ2R2ka",
        "outputId": "efd7fea4-95c8-4034-f2d8-81bf5ea59964",
        "colab": {
          "base_uri": "https://localhost:8080/"
        }
      },
      "outputs": [
        {
          "output_type": "stream",
          "name": "stdout",
          "text": [
            "Epoch 0, Loss: 1.2213, Training Accuracy: 0.3083\n",
            "Epoch 100, Loss: 0.3880, Training Accuracy: 0.7583\n",
            "Epoch 200, Loss: 0.2643, Training Accuracy: 0.8583\n",
            "Epoch 300, Loss: 0.1372, Training Accuracy: 0.9417\n",
            "Epoch 400, Loss: 0.1448, Training Accuracy: 0.9250\n",
            "Test Accuracy: 0.9667\n",
            "\n",
            "Detailed Classification Report:\n",
            "              precision    recall  f1-score   support\n",
            "\n",
            "      setosa       1.00      1.00      1.00         8\n",
            "  versicolor       1.00      0.89      0.94         9\n",
            "   virginica       0.93      1.00      0.96        13\n",
            "\n",
            "    accuracy                           0.97        30\n",
            "   macro avg       0.98      0.96      0.97        30\n",
            "weighted avg       0.97      0.97      0.97        30\n",
            "\n",
            "\n",
            "Confusion Matrix:\n",
            "[[ 8  0  0]\n",
            " [ 0  8  1]\n",
            " [ 0  0 13]]\n"
          ]
        }
      ],
      "source": [
        "\n",
        "torch.manual_seed(29387523)\n",
        "nn_model = Pytorch_model()\n",
        "\n",
        "# CrossEntropyLoss combines nn.LogSoftmax() and nn.NLLLoss() in a single class\n",
        "# The math behind this:\n",
        "# 1. First, LogSoftmax computes: log(softmax(x)) = log(exp(x_i)/sum(exp(x)))\n",
        "# 2. Then NLLLoss computes: -sum(target * log_softmax(x))\n",
        "# This is numerically more stable than computing softmax first\n",
        "# That's why we don't need softmax in the model's forward pass\n",
        "Loss = nn.CrossEntropyLoss()\n",
        "optimizer = optim.SGD(nn_model.parameters(), lr=0.1)\n",
        "\n",
        "X_train = torch.FloatTensor(X_train)\n",
        "y_train = torch.LongTensor(np.argmax(y_train, axis=1))  # CrossEntropyLoss expects class indices, not one-hot\n",
        "X_test = torch.FloatTensor(X_test)\n",
        "y_test = torch.LongTensor(np.argmax(y_test, axis=1))\n",
        "\n",
        "# Training loop\n",
        "for epoch in range(EPOCHS):\n",
        "    # Forward pass\n",
        "    outputs = nn_model(X_train)\n",
        "    loss = Loss(outputs, y_train)\n",
        "\n",
        "    # Backward pass and optimization\n",
        "    optimizer.zero_grad()\n",
        "    loss.backward()\n",
        "    optimizer.step()\n",
        "\n",
        "    if epoch % 100 == 0:\n",
        "        with torch.no_grad():\n",
        "            train_pred = torch.argmax(outputs, dim=1)\n",
        "            train_true = y_train\n",
        "            train_acc = (train_pred == train_true).float().mean()\n",
        "            print(f\"Epoch {epoch}, Loss: {loss.item():.4f}, Training Accuracy: {train_acc:.4f}\")\n",
        "\n",
        "# Test evaluation\n",
        "with torch.no_grad():\n",
        "    predictions = nn_model(X_test)\n",
        "    pred_labels = torch.argmax(predictions, dim=1).numpy()\n",
        "    true_labels = y_test.numpy()\n",
        "\n",
        "    print(f\"Test Accuracy: {(pred_labels == true_labels).mean():.4f}\")\n",
        "    print(\"\\nDetailed Classification Report:\")\n",
        "    print(classification_report(true_labels, pred_labels,\n",
        "                              target_names=iris_data['target_names']))\n",
        "    print(\"\\nConfusion Matrix:\")\n",
        "    print(confusion_matrix(true_labels, pred_labels))\n"
      ]
    },
    {
      "cell_type": "markdown",
      "metadata": {
        "id": "RVir2wyyR2ka"
      },
      "source": [
        "## ADOPT"
      ]
    },
    {
      "cell_type": "code",
      "execution_count": 42,
      "metadata": {
        "id": "VwYCm8K8R2kb",
        "outputId": "196037f9-e67e-4e50-9874-355bd6c739ed",
        "colab": {
          "base_uri": "https://localhost:8080/"
        }
      },
      "outputs": [
        {
          "output_type": "stream",
          "name": "stdout",
          "text": [
            "Epoch 0, Loss: 1.2213, Training Accuracy: 0.3083\n",
            "Epoch 100, Loss: 0.0837, Training Accuracy: 0.9667\n",
            "Epoch 200, Loss: 0.0827, Training Accuracy: 0.9667\n",
            "Epoch 300, Loss: 0.0774, Training Accuracy: 0.9667\n",
            "Epoch 400, Loss: 0.0282, Training Accuracy: 0.9917\n",
            "Test Accuracy: 0.9667\n",
            "\n",
            "Detailed Classification Report:\n",
            "              precision    recall  f1-score   support\n",
            "\n",
            "      setosa       1.00      1.00      1.00         8\n",
            "  versicolor       1.00      0.89      0.94         9\n",
            "   virginica       0.93      1.00      0.96        13\n",
            "\n",
            "    accuracy                           0.97        30\n",
            "   macro avg       0.98      0.96      0.97        30\n",
            "weighted avg       0.97      0.97      0.97        30\n",
            "\n",
            "\n",
            "Confusion Matrix:\n",
            "[[ 8  0  0]\n",
            " [ 0  8  1]\n",
            " [ 0  0 13]]\n"
          ]
        }
      ],
      "source": [
        "torch.manual_seed(29387523)\n",
        "nn_model_adopt = Pytorch_model()\n",
        "\n",
        "Loss = nn.CrossEntropyLoss()\n",
        "\n",
        "\n",
        "#--------------- the only diff ----------------------------#\n",
        "optimizer_adopt = ADOPT(nn_model_adopt.parameters(), lr=0.1)\n",
        "#--------------- the only diff ----------------------------#\n",
        "\n",
        "\n",
        "# Training loop for both models\n",
        "for epoch in range(EPOCHS):\n",
        "\n",
        "    # ADOPT Model Training\n",
        "    outputs_adopt = nn_model_adopt(X_train)\n",
        "    loss_adopt = Loss(outputs_adopt, y_train)\n",
        "    optimizer_adopt.zero_grad()\n",
        "    loss_adopt.backward()\n",
        "    optimizer_adopt.step()\n",
        "\n",
        "    if epoch % 100 == 0:\n",
        "        with torch.no_grad():\n",
        "\n",
        "            # Calculate metrics for ADOPT\n",
        "            train_pred_adopt = torch.argmax(outputs_adopt, dim=1)\n",
        "            train_acc_adopt = (train_pred_adopt == train_true).float().mean()\n",
        "\n",
        "            print(f\"Epoch {epoch}, Loss: {loss_adopt.item():.4f}, Training Accuracy: {train_acc_adopt:.4f}\")\n",
        "\n",
        "\n",
        "# ADOPT Model Evaluation\n",
        "with torch.no_grad():\n",
        "    predictions = nn_model(X_test)\n",
        "    pred_labels = torch.argmax(predictions, dim=1).numpy()\n",
        "    true_labels = y_test.numpy()\n",
        "\n",
        "    print(f\"Test Accuracy: {(pred_labels == true_labels).mean():.4f}\")\n",
        "    print(\"\\nDetailed Classification Report:\")\n",
        "    print(classification_report(true_labels, pred_labels,\n",
        "                              target_names=iris_data['target_names']))\n",
        "    print(\"\\nConfusion Matrix:\")\n",
        "    print(confusion_matrix(true_labels, pred_labels))"
      ]
    },
    {
      "cell_type": "markdown",
      "metadata": {
        "id": "94k8UIAxR2kb"
      },
      "source": [
        "# just A plot"
      ]
    },
    {
      "cell_type": "code",
      "execution_count": 43,
      "metadata": {
        "tags": [
          "remove-input"
        ],
        "id": "Iguq5FIgR2kb",
        "outputId": "baad20a4-25b6-4a63-9e8f-975669711b59",
        "colab": {
          "base_uri": "https://localhost:8080/",
          "height": 1000
        }
      },
      "outputs": [
        {
          "output_type": "display_data",
          "data": {
            "text/plain": [
              "<Figure size 1200x700 with 1 Axes>"
            ],
            "image/png": "[encoded data removed]"
          },
          "metadata": {}
        },
        {
          "output_type": "display_data",
          "data": {
            "text/plain": [
              "<Figure size 1200x700 with 1 Axes>"
            ],
            "image/png": "[encoded data removed]"
          },
          "metadata": {}
        }
      ],
      "source": [
        "import matplotlib.pyplot as plt\n",
        "\n",
        "def train_and_track_models(epochs=EPOCHS):\n",
        "    # Initialize models with same seeds\n",
        "    np.random.seed(29387523)\n",
        "    torch.manual_seed(29387523)\n",
        "\n",
        "    # Prepare data\n",
        "    X_train_np = X_train.numpy()\n",
        "    y_train_np = np.zeros((len(y_train), 3))\n",
        "    for i in range(len(y_train)):\n",
        "        y_train_np[i, y_train[i]] = 1\n",
        "\n",
        "    X_train_torch = X_train\n",
        "    y_train_torch = y_train\n",
        "\n",
        "    # Initialize models\n",
        "    nn_numpy = NeuralNetwork_numpy(input_size=ni, hidden_size=nh, output_size=no)\n",
        "    nn_pytorch = Pytorch_model()\n",
        "    nn_adopt = Pytorch_model()\n",
        "\n",
        "    # Initialize optimizers\n",
        "    Loss = nn.CrossEntropyLoss()\n",
        "    optimizer_pytorch = optim.SGD(nn_pytorch.parameters(), lr=0.1)\n",
        "    optimizer_adopt = ADOPT(nn_adopt.parameters(), lr=0.1)\n",
        "\n",
        "    # Lists to store both metrics\n",
        "    numpy_losses, pytorch_losses, adopt_losses = [], [], []\n",
        "    numpy_accuracies, pytorch_accuracies, adopt_accuracies = [], [], []\n",
        "\n",
        "    for epoch in range(epochs):\n",
        "        # Train NumPy model\n",
        "        y_pred_numpy = nn_numpy.forward(X_train_np)\n",
        "        numpy_loss = nn_numpy.cross_entropy_loss(y_train_np, y_pred_numpy)\n",
        "        dW1, db1, dW2, db2 = nn_numpy.backward(X_train_np, y_train_np)\n",
        "        nn_numpy.update_params(dW1, db1, dW2, db2, 0.1)\n",
        "        numpy_acc = np.mean(np.argmax(y_pred_numpy, axis=1) == y_train.numpy())\n",
        "\n",
        "        # Train PyTorch model\n",
        "        outputs_pytorch = nn_pytorch(X_train_torch)\n",
        "        loss_pytorch = Loss(outputs_pytorch, y_train_torch)\n",
        "        optimizer_pytorch.zero_grad()\n",
        "        loss_pytorch.backward()\n",
        "        optimizer_pytorch.step()\n",
        "        pytorch_acc = (torch.argmax(outputs_pytorch, dim=1) == y_train_torch).float().mean().item()\n",
        "\n",
        "        # Train ADOPT model\n",
        "        outputs_adopt = nn_adopt(X_train_torch)\n",
        "        loss_adopt = Loss(outputs_adopt, y_train_torch)\n",
        "        optimizer_adopt.zero_grad()\n",
        "        loss_adopt.backward()\n",
        "        optimizer_adopt.step()\n",
        "        adopt_acc = (torch.argmax(outputs_adopt, dim=1) == y_train_torch).float().mean().item()\n",
        "\n",
        "        # Store metrics\n",
        "        numpy_losses.append(float(numpy_loss))\n",
        "        pytorch_losses.append(loss_pytorch.item())\n",
        "        adopt_losses.append(loss_adopt.item())\n",
        "        numpy_accuracies.append(float(numpy_acc))\n",
        "        pytorch_accuracies.append(pytorch_acc)\n",
        "        adopt_accuracies.append(adopt_acc)\n",
        "\n",
        "    return (numpy_losses, pytorch_losses, adopt_losses,\n",
        "            numpy_accuracies, pytorch_accuracies, adopt_accuracies)\n",
        "\n",
        "# Train models and get all metrics\n",
        "metrics = train_and_track_models()\n",
        "numpy_losses, pytorch_losses, adopt_losses = metrics[:3]\n",
        "numpy_acc, pytorch_acc, adopt_acc = metrics[3:]\n",
        "\n",
        "# Set style for better-looking plots\n",
        "plt.style.use('bmh')\n",
        "\n",
        "# Create loss plot\n",
        "epochs = range(EPOCHS)\n",
        "fig1, ax1 = plt.subplots(figsize=(12, 7), dpi=100)\n",
        "ax1.plot(epochs, numpy_losses, label='NumPy Implementation', linewidth=2.5, color='#2ecc71', alpha=0.8)\n",
        "ax1.plot(epochs, pytorch_losses, label='PyTorch (SGD)', linewidth=2.5, color='#e74c3c', alpha=0.8)\n",
        "ax1.plot(epochs, adopt_losses, label='ADOPT', linewidth=2.5, color='#3498db', alpha=0.8)\n",
        "ax1.set_xlabel('Epoch', fontsize=13, fontweight='bold')\n",
        "ax1.set_ylabel('Training Loss', fontsize=13, fontweight='bold')\n",
        "ax1.set_title('Training Loss Comparison', fontsize=16, pad=20, fontweight='bold')\n",
        "ax1.legend(fontsize=11, frameon=True, fancybox=True, shadow=True, loc='upper right')\n",
        "ax1.grid(True, linestyle='--', alpha=0.4)\n",
        "ax1.spines['top'].set_visible(False)\n",
        "ax1.spines['right'].set_visible(False)\n",
        "ax1.tick_params(labelsize=11)\n",
        "plt.tight_layout()\n",
        "plt.show()\n",
        "\n",
        "# Create accuracy plot\n",
        "fig2, ax2 = plt.subplots(figsize=(12, 7), dpi=100)\n",
        "ax2.plot(epochs, numpy_acc, label='NumPy Implementation', linewidth=2.5, color='#2ecc71', alpha=0.8)\n",
        "ax2.plot(epochs, pytorch_acc, label='PyTorch (SGD)', linewidth=2.5, color='#e74c3c', alpha=0.8)\n",
        "ax2.plot(epochs, adopt_acc, label='ADOPT', linewidth=2.5, color='#3498db', alpha=0.8)\n",
        "ax2.set_xlabel('Epoch', fontsize=13, fontweight='bold')\n",
        "ax2.set_ylabel('Training Accuracy', fontsize=13, fontweight='bold')\n",
        "ax2.set_title('Training Accuracy Comparison', fontsize=16, pad=20, fontweight='bold')\n",
        "ax2.legend(fontsize=11, frameon=True, fancybox=True, shadow=True, loc='lower right')\n",
        "ax2.grid(True, linestyle='--', alpha=0.4)\n",
        "ax2.spines['top'].set_visible(False)\n",
        "ax2.spines['right'].set_visible(False)\n",
        "ax2.tick_params(labelsize=11)\n",
        "plt.tight_layout()\n",
        "plt.show()"
      ]
    },
    {
      "cell_type": "code",
      "execution_count": 43,
      "metadata": {
        "id": "wj2z1d2LR2kc"
      },
      "outputs": [],
      "source": []
    },
    {
      "cell_type": "code",
      "execution_count": 43,
      "metadata": {
        "id": "PyayvwXKR2kc"
      },
      "outputs": [],
      "source": []
    }
  ],
  "metadata": {
    "kernelspec": {
      "display_name": "bots",
      "language": "python",
      "name": "python3"
    },
    "language_info": {
      "codemirror_mode": {
        "name": "ipython",
        "version": 3
      },
      "file_extension": ".py",
      "mimetype": "text/x-python",
      "name": "python",
      "nbconvert_exporter": "python",
      "pygments_lexer": "ipython3",
      "version": "3.11.11"
    },
    "colab": {
      "provenance": [],
      "toc_visible": true
    }
  },
  "nbformat": 4,
  "nbformat_minor": 0
}
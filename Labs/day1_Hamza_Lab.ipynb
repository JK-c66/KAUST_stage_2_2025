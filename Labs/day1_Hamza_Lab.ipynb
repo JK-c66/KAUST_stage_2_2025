{
 "cells": [
  {
   "cell_type": "code",
   "id": "initial_id",
   "metadata": {
    "collapsed": true,
    "ExecuteTime": {
     "end_time": "2025-01-05T15:42:32.129020Z",
     "start_time": "2025-01-05T15:42:30.997754Z"
    }
   },
   "source": [
    "import numpy as np\n",
    "import matplotlib.pyplot as plt"
   ],
   "outputs": [],
   "execution_count": 1
  },
  {
   "metadata": {},
   "cell_type": "markdown",
   "source": "## Prepare the data (fake)",
   "id": "a124d51f0620f5cc"
  },
  {
   "metadata": {
    "ExecuteTime": {
     "end_time": "2025-01-05T15:42:41.826615Z",
     "start_time": "2025-01-05T15:42:41.811034Z"
    }
   },
   "cell_type": "code",
   "source": [
    "num_examples=5\n",
    "x1=np.random.rand(1,num_examples)\n",
    "x2=np.random.randn(1,num_examples)\n",
    "y=3*x1+0.2*x2+5\n",
    "print(\"x1=\\n\",x1)\n",
    "print(\"_______________\")\n",
    "print(\"x2=\\n\",x2)\n",
    "print(\"_______________\")\n",
    "print(\"y=\\n\",y)"
   ],
   "id": "29c7a19b6bd17e50",
   "outputs": [
    {
     "name": "stdout",
     "output_type": "stream",
     "text": [
      "x1=\n",
      " [[0.83488003 0.86164561 0.14054472 0.24117491 0.05546297]]\n",
      "_______________\n",
      "x2=\n",
      " [[ 0.0401923   0.46728083 -0.3160408   0.24723526  0.10972037]]\n",
      "_______________\n",
      "y=\n",
      " [[7.51267855 7.67839298 5.358426   5.77297179 5.18833298]]\n"
     ]
    }
   ],
   "execution_count": 2
  },
  {
   "metadata": {
    "ExecuteTime": {
     "end_time": "2025-01-05T15:42:42.505135Z",
     "start_time": "2025-01-05T15:42:42.488972Z"
    }
   },
   "cell_type": "code",
   "source": [
    "X=np.concatenate((np.ones_like(x1),x1,x2),axis=0)\n",
    "print(X)"
   ],
   "id": "aae5bfc126dd764b",
   "outputs": [
    {
     "name": "stdout",
     "output_type": "stream",
     "text": [
      "[[ 1.          1.          1.          1.          1.        ]\n",
      " [ 0.83488003  0.86164561  0.14054472  0.24117491  0.05546297]\n",
      " [ 0.0401923   0.46728083 -0.3160408   0.24723526  0.10972037]]\n"
     ]
    }
   ],
   "execution_count": 3
  },
  {
   "metadata": {},
   "cell_type": "markdown",
   "source": "## Linear regression (open-form)\n",
   "id": "73d6df1275391e24"
  },
  {
   "metadata": {
    "ExecuteTime": {
     "end_time": "2025-01-05T15:42:43.659588Z",
     "start_time": "2025-01-05T15:42:43.616914Z"
    }
   },
   "cell_type": "code",
   "source": [
    "# initialize the parameters (weights and bias)\n",
    "param=np.random.randn(1,3) # [b w1 w2]\n",
    "lr=1 # learning rate\n",
    "iters=50\n",
    "for i in range(iters):  \n",
    "  # res= w1*x1 + w2*x2 + b\n",
    "  # [b w1 w2][        ]\n",
    "  #          [         ]\n",
    "  #          [         ]\n",
    "  yhat=param @ X # yhat = [res1 res2 res3 res4 ...]\n",
    "  loss=np.sum((1/2*num_examples)*(yhat-y)**2,axis=1)\n",
    "  print(f\"loss at iter {i}:\",loss, \"params=\",param)\n",
    "  \n",
    "  dparams=(yhat-y)@X.T # (1,num_examples) x (num_examples,3) = (1,3)\n",
    "  param= param-lr*dparams"
   ],
   "id": "9e571ee8cc22e7a1",
   "outputs": [
    {
     "name": "stdout",
     "output_type": "stream",
     "text": [
      "loss at iter 0: [477.09245771] params= [[-0.31644426  1.22673379 -0.38593146]]\n",
      "loss at iter 1: [12378.22690761] params= [[30.37072752 15.5346934   3.57105599]]\n",
      "loss at iter 2: [321608.576461] params= [[-125.07693517  -59.19963106  -17.40119283]]\n",
      "loss at iter 3: [8356049.81112705] params= [[667.67588807 320.97036369  89.30405107]]\n",
      "loss at iter 4: [2.17107316e+08] params= [[-3373.02312529 -1617.20873335  -454.58373388]]\n",
      "loss at iter 5: [5.64089347e+09] params= [[17223.54314571  8262.01161303  2317.83337446]]\n",
      "loss at iter 6: [1.46561984e+11] params= [[-87762.45593173 -42095.03995415 -11813.80557482]]\n",
      "loss at iter 7: [3.80798103e+12] params= [[447378.41676757 214587.83720863  60218.90267497]]\n",
      "loss at iter 8: [9.89391591e+13] params= [[-2280373.31333435 -1093791.37137863  -306950.4144958 ]]\n",
      "loss at iter 9: [2.57064233e+15] params= [[11623684.33475704  5575356.56852799  1564606.82643367]]\n",
      "loss at iter 10: [6.67905613e+16] params= [[-59248901.61009086 -28419019.24203696  -7975205.51838297]]\n",
      "loss at iter 11: [1.7353558e+18] params= [[3.02007040e+08 1.44859126e+08 4.06516909e+07]]\n",
      "loss at iter 12: [4.50881038e+19] params= [[-1.53940814e+09 -7.38384497e+08 -2.07212205e+08]]\n",
      "loss at iter 13: [1.17148143e+21] params= [[7.84676234e+09 3.76373720e+09 1.05621432e+09]]\n",
      "loss at iter 14: [3.0437491e+22] params= [[-3.99969816e+10 -1.91847441e+10 -5.38379818e+09]]\n",
      "loss at iter 15: [7.90828457e+23] params= [[2.03874983e+11 9.77896136e+10 2.74426149e+10]]\n",
      "loss at iter 16: [2.05473457e+25] params= [[-1.03920364e+12 -4.98459009e+11 -1.39882122e+11]]\n",
      "loss at iter 17: [5.33862194e+26] params= [[5.29709031e+12 2.54077477e+12 7.13015433e+11]]\n",
      "loss at iter 18: [1.3870835e+28] params= [[-2.70006424e+13 -1.29509876e+13 -3.63442448e+12]]\n",
      "loss at iter 19: [3.60392749e+29] params= [[1.37629273e+14 6.60145410e+13 1.85256037e+13]]\n",
      "loss at iter 20: [9.36374297e+30] params= [[-7.01532080e+14 -3.36493227e+14 -9.44298041e+13]]\n",
      "loss at iter 21: [2.43289252e+32] params= [[3.57589086e+15 1.71519320e+15 4.81333189e+14]]\n",
      "loss at iter 22: [6.32115387e+33] params= [[-1.82272426e+16 -8.74278436e+15 -2.45348003e+15]]\n",
      "loss at iter 23: [1.64236545e+35] params= [[9.29089805e+16 4.45642381e+16 1.25060237e+16]]\n",
      "loss at iter 24: [4.26720238e+36] params= [[-4.73581157e+17 -2.27155473e+17 -6.37464445e+16]]\n",
      "loss at iter 25: [1.10870672e+38] params= [[2.41396591e+18 1.15787033e+18 3.24932152e+17]]\n",
      "loss at iter 26: [2.88064751e+39] params= [[-1.23046100e+19 -5.90196521e+18 -1.65626340e+18]]\n",
      "loss at iter 27: [7.48451319e+40] params= [[6.27197867e+19 3.00838465e+19 8.44240389e+18]]\n",
      "loss at iter 28: [1.94463007e+42] params= [[-3.19699010e+20 -1.53345164e+20 -4.30331210e+19]]\n",
      "loss at iter 29: [5.05254786e+43] params= [[1.62958873e+21 7.81640049e+20 2.19350973e+20]]\n",
      "loss at iter 30: [1.31275559e+45] params= [[-8.30643615e+21 -3.98422194e+21 -1.11808877e+21]]\n",
      "loss at iter 31: [3.41080832e+46] params= [[4.23400582e+22 2.03086120e+22 5.69918827e+21]]\n",
      "loss at iter 32: [8.86197975e+47] params= [[-2.15818252e+23 -1.03518260e+23 -2.90502399e+22]]\n",
      "loss at iter 33: [2.30252414e+49] params= [[1.10008157e+24 5.27659403e+23 1.48076603e+23]]\n",
      "loss at iter 34: [5.98243008e+50] params= [[-5.60740093e+24 -2.68961675e+24 -7.54784829e+23]]\n",
      "loss at iter 35: [1.55435806e+52] params= [[2.85823761e+25 1.37096738e+25 3.84733392e+24]]\n",
      "loss at iter 36: [4.03854113e+53] params= [[-1.45691780e+26 -6.98817610e+25 -1.96108583e+25]]\n",
      "loss at iter 37: [1.04929583e+55] params= [[7.42628766e+26 3.56205450e+26 9.99616281e+25]]\n",
      "loss at iter 38: [2.72628584e+56] params= [[-3.78537132e+27 -1.81567151e+27 -5.09530330e+26]]\n",
      "loss at iter 39: [7.08344991e+57] params= [[1.92950188e+28 9.25494834e+27 2.59720817e+27]]\n",
      "loss at iter 40: [1.8404256e+59] params= [[-9.83517126e+28 -4.71748707e+28 -1.32386433e+28]]\n",
      "loss at iter 41: [4.78180328e+60] params= [[5.01324173e+29 2.40462544e+29 6.74807963e+28]]\n",
      "loss at iter 42: [1.24241059e+62] params= [[-2.55537926e+30 -1.22569992e+30 -3.43967111e+29]]\n",
      "loss at iter 43: [3.22803759e+63] params= [[1.30254305e+31 6.24771021e+30 1.75328953e+30]]\n",
      "loss at iter 44: [8.38710389e+64] params= [[-6.63939955e+31 -3.18461984e+31 -8.93697119e+30]]\n",
      "loss at iter 45: [2.17914165e+66] params= [[3.38427405e+32 1.62328328e+32 4.55540587e+31]]\n",
      "loss at iter 46: [5.66185706e+67] params= [[-1.72505221e+33 -8.27429567e+32 -2.32200846e+32]]\n",
      "loss at iter 47: [1.47106662e+69] params= [[8.79303827e+33 4.21762299e+33 1.18358790e+33]]\n",
      "loss at iter 48: [3.82213286e+70] params= [[-4.48203954e+34 -2.14983176e+34 -6.03305432e+33]]\n",
      "loss at iter 49: [9.93068527e+71] params= [[2.28461173e+35 1.09582498e+35 3.07520417e+34]]\n"
     ]
    }
   ],
   "execution_count": 4
  },
  {
   "metadata": {},
   "cell_type": "markdown",
   "source": "## Linear regression (closed-form)",
   "id": "fccee4424b7eb95e"
  },
  {
   "metadata": {
    "ExecuteTime": {
     "end_time": "2025-01-05T15:42:46.874880Z",
     "start_time": "2025-01-05T15:42:46.852357Z"
    }
   },
   "cell_type": "code",
   "source": [
    "X=X.T\n",
    "y=y.T\n",
    "print(X)"
   ],
   "id": "32a171d9e0ef9194",
   "outputs": [
    {
     "name": "stdout",
     "output_type": "stream",
     "text": [
      "[[ 1.          0.83488003  0.0401923 ]\n",
      " [ 1.          0.86164561  0.46728083]\n",
      " [ 1.          0.14054472 -0.3160408 ]\n",
      " [ 1.          0.24117491  0.24723526]\n",
      " [ 1.          0.05546297  0.10972037]]\n"
     ]
    }
   ],
   "execution_count": 5
  },
  {
   "metadata": {
    "ExecuteTime": {
     "end_time": "2025-01-05T15:42:47.732382Z",
     "start_time": "2025-01-05T15:42:47.702246Z"
    }
   },
   "cell_type": "code",
   "source": [
    "param=np.linalg.inv(X.T@X)@X.T@y\n",
    "yhat=X@param\n",
    "loss=np.sum((1/2*num_examples)*(y-yhat)**2,axis=0)\n",
    "print(loss)"
   ],
   "id": "7c273e38e74331ed",
   "outputs": [
    {
     "name": "stdout",
     "output_type": "stream",
     "text": [
      "[1.38050658e-29]\n"
     ]
    }
   ],
   "execution_count": 6
  },
  {
   "metadata": {
    "ExecuteTime": {
     "end_time": "2025-01-05T15:42:48.538369Z",
     "start_time": "2025-01-05T15:42:48.525909Z"
    }
   },
   "cell_type": "code",
   "source": "print(param) # 5+3*x1+0.2*x2",
   "id": "8e8c6baa64cad943",
   "outputs": [
    {
     "name": "stdout",
     "output_type": "stream",
     "text": [
      "[[5. ]\n",
      " [3. ]\n",
      " [0.2]]\n"
     ]
    }
   ],
   "execution_count": 7
  },
  {
   "metadata": {},
   "cell_type": "markdown",
   "source": "## Feature engineering",
   "id": "e983bd0f0c931789"
  },
  {
   "metadata": {
    "ExecuteTime": {
     "end_time": "2025-01-05T15:42:49.503136Z",
     "start_time": "2025-01-05T15:42:49.475609Z"
    }
   },
   "cell_type": "code",
   "source": [
    "num_bases=5\n",
    "\n",
    "X_eng=[(x1**j)*(x2**i)for i in range(num_bases+1) for j in range(num_bases+1)]\n",
    "# [(x1^0)(x2^0) (x1^1)(x2^0) (x1^2)(x2^0) (x1^0)(x2^1) ... (x1^2)(x2^2)]\n",
    "X_eng=np.array(X_eng).squeeze(1)\n",
    "X_eng=X_eng.T\n",
    "X_eng.shape"
   ],
   "id": "7e2651657196e00c",
   "outputs": [
    {
     "data": {
      "text/plain": [
       "(5, 36)"
      ]
     },
     "execution_count": 8,
     "metadata": {},
     "output_type": "execute_result"
    }
   ],
   "execution_count": 8
  },
  {
   "metadata": {
    "ExecuteTime": {
     "end_time": "2025-01-05T15:42:50.437718Z",
     "start_time": "2025-01-05T15:42:50.427349Z"
    }
   },
   "cell_type": "code",
   "source": [
    "param=np.linalg.inv(X_eng.T@X_eng)@X_eng.T@y\n",
    "yhat=X_eng@param\n",
    "loss=np.sum((1/2*num_examples)*(y-yhat)**2,axis=0)\n",
    "print(loss)"
   ],
   "id": "94c3fa983f7ee1c8",
   "outputs": [
    {
     "name": "stdout",
     "output_type": "stream",
     "text": [
      "[13332.87905807]\n"
     ]
    }
   ],
   "execution_count": 9
  },
  {
   "metadata": {},
   "cell_type": "markdown",
   "source": "## Real data",
   "id": "2bbbc3fa28502c85"
  },
  {
   "metadata": {
    "ExecuteTime": {
     "end_time": "2025-01-05T06:53:07.787761Z",
     "start_time": "2025-01-05T06:52:56.996460Z"
    }
   },
   "cell_type": "code",
   "source": "!pip install kagglehub",
   "id": "af872074f1f73bfa",
   "outputs": [
    {
     "name": "stdout",
     "output_type": "stream",
     "text": [
      "Collecting kagglehub\n",
      "  Downloading kagglehub-0.3.6-py3-none-any.whl.metadata (30 kB)\n",
      "Requirement already satisfied: packaging in c:\\users\\hthek\\anaconda3\\envs\\cudaenv\\lib\\site-packages (from kagglehub) (24.1)\n",
      "Requirement already satisfied: requests in c:\\users\\hthek\\anaconda3\\envs\\cudaenv\\lib\\site-packages (from kagglehub) (2.32.3)\n",
      "Requirement already satisfied: tqdm in c:\\users\\hthek\\anaconda3\\envs\\cudaenv\\lib\\site-packages (from kagglehub) (4.67.1)\n",
      "Requirement already satisfied: charset-normalizer<4,>=2 in c:\\users\\hthek\\anaconda3\\envs\\cudaenv\\lib\\site-packages (from requests->kagglehub) (3.3.2)\n",
      "Requirement already satisfied: idna<4,>=2.5 in c:\\users\\hthek\\anaconda3\\envs\\cudaenv\\lib\\site-packages (from requests->kagglehub) (3.7)\n",
      "Requirement already satisfied: urllib3<3,>=1.21.1 in c:\\users\\hthek\\anaconda3\\envs\\cudaenv\\lib\\site-packages (from requests->kagglehub) (2.2.3)\n",
      "Requirement already satisfied: certifi>=2017.4.17 in c:\\users\\hthek\\anaconda3\\envs\\cudaenv\\lib\\site-packages (from requests->kagglehub) (2024.8.30)\n",
      "Requirement already satisfied: colorama in c:\\users\\hthek\\anaconda3\\envs\\cudaenv\\lib\\site-packages (from tqdm->kagglehub) (0.4.6)\n",
      "Downloading kagglehub-0.3.6-py3-none-any.whl (51 kB)\n",
      "Installing collected packages: kagglehub\n",
      "Successfully installed kagglehub-0.3.6\n"
     ]
    }
   ],
   "execution_count": 41
  },
  {
   "metadata": {
    "ExecuteTime": {
     "end_time": "2025-01-05T15:43:03.136573Z",
     "start_time": "2025-01-05T15:43:00.855805Z"
    }
   },
   "cell_type": "code",
   "source": [
    "import kagglehub\n",
    "import pandas as pd\n",
    "import os\n",
    "path = kagglehub.dataset_download(\"aariyan101/usa-housingcsv\")\n",
    "csv_path = os.path.join(path, \"USA_Housing.csv\")"
   ],
   "id": "14ad7ae1cc2b4eaa",
   "outputs": [
    {
     "name": "stderr",
     "output_type": "stream",
     "text": [
      "C:\\Users\\hthek\\anaconda3\\envs\\cudaenv\\Lib\\site-packages\\tqdm\\auto.py:21: TqdmWarning: IProgress not found. Please update jupyter and ipywidgets. See https://ipywidgets.readthedocs.io/en/stable/user_install.html\n",
      "  from .autonotebook import tqdm as notebook_tqdm\n"
     ]
    }
   ],
   "execution_count": 10
  },
  {
   "metadata": {
    "ExecuteTime": {
     "end_time": "2025-01-05T15:43:03.180036Z",
     "start_time": "2025-01-05T15:43:03.149580Z"
    }
   },
   "cell_type": "code",
   "source": [
    "USAhousing = pd.read_csv(csv_path)\n",
    "USAhousing.info()"
   ],
   "id": "4855990d40b2cda0",
   "outputs": [
    {
     "name": "stdout",
     "output_type": "stream",
     "text": [
      "<class 'pandas.core.frame.DataFrame'>\n",
      "RangeIndex: 5000 entries, 0 to 4999\n",
      "Data columns (total 7 columns):\n",
      " #   Column                        Non-Null Count  Dtype  \n",
      "---  ------                        --------------  -----  \n",
      " 0   Avg. Area Income              5000 non-null   float64\n",
      " 1   Avg. Area House Age           5000 non-null   float64\n",
      " 2   Avg. Area Number of Rooms     5000 non-null   float64\n",
      " 3   Avg. Area Number of Bedrooms  5000 non-null   float64\n",
      " 4   Area Population               5000 non-null   float64\n",
      " 5   Price                         5000 non-null   float64\n",
      " 6   Address                       5000 non-null   object \n",
      "dtypes: float64(6), object(1)\n",
      "memory usage: 273.6+ KB\n"
     ]
    }
   ],
   "execution_count": 11
  },
  {
   "metadata": {
    "ExecuteTime": {
     "end_time": "2025-01-05T15:43:03.607898Z",
     "start_time": "2025-01-05T15:43:03.587924Z"
    }
   },
   "cell_type": "code",
   "source": "USAhousing.head()",
   "id": "ab8f32bff11bf680",
   "outputs": [
    {
     "data": {
      "text/plain": [
       "   Avg. Area Income  Avg. Area House Age  Avg. Area Number of Rooms  \\\n",
       "0      79545.458574             5.682861                   7.009188   \n",
       "1      79248.642455             6.002900                   6.730821   \n",
       "2      61287.067179             5.865890                   8.512727   \n",
       "3      63345.240046             7.188236                   5.586729   \n",
       "4      59982.197226             5.040555                   7.839388   \n",
       "\n",
       "   Avg. Area Number of Bedrooms  Area Population         Price  \\\n",
       "0                          4.09     23086.800503  1.059034e+06   \n",
       "1                          3.09     40173.072174  1.505891e+06   \n",
       "2                          5.13     36882.159400  1.058988e+06   \n",
       "3                          3.26     34310.242831  1.260617e+06   \n",
       "4                          4.23     26354.109472  6.309435e+05   \n",
       "\n",
       "                                             Address  \n",
       "0  208 Michael Ferry Apt. 674\\nLaurabury, NE 3701...  \n",
       "1  188 Johnson Views Suite 079\\nLake Kathleen, CA...  \n",
       "2  9127 Elizabeth Stravenue\\nDanieltown, WI 06482...  \n",
       "3                          USS Barnett\\nFPO AP 44820  \n",
       "4                         USNS Raymond\\nFPO AE 09386  "
      ],
      "text/html": [
       "<div>\n",
       "<style scoped>\n",
       "    .dataframe tbody tr th:only-of-type {\n",
       "        vertical-align: middle;\n",
       "    }\n",
       "\n",
       "    .dataframe tbody tr th {\n",
       "        vertical-align: top;\n",
       "    }\n",
       "\n",
       "    .dataframe thead th {\n",
       "        text-align: right;\n",
       "    }\n",
       "</style>\n",
       "<table border=\"1\" class=\"dataframe\">\n",
       "  <thead>\n",
       "    <tr style=\"text-align: right;\">\n",
       "      <th></th>\n",
       "      <th>Avg. Area Income</th>\n",
       "      <th>Avg. Area House Age</th>\n",
       "      <th>Avg. Area Number of Rooms</th>\n",
       "      <th>Avg. Area Number of Bedrooms</th>\n",
       "      <th>Area Population</th>\n",
       "      <th>Price</th>\n",
       "      <th>Address</th>\n",
       "    </tr>\n",
       "  </thead>\n",
       "  <tbody>\n",
       "    <tr>\n",
       "      <th>0</th>\n",
       "      <td>79545.458574</td>\n",
       "      <td>5.682861</td>\n",
       "      <td>7.009188</td>\n",
       "      <td>4.09</td>\n",
       "      <td>23086.800503</td>\n",
       "      <td>1.059034e+06</td>\n",
       "      <td>208 Michael Ferry Apt. 674\\nLaurabury, NE 3701...</td>\n",
       "    </tr>\n",
       "    <tr>\n",
       "      <th>1</th>\n",
       "      <td>79248.642455</td>\n",
       "      <td>6.002900</td>\n",
       "      <td>6.730821</td>\n",
       "      <td>3.09</td>\n",
       "      <td>40173.072174</td>\n",
       "      <td>1.505891e+06</td>\n",
       "      <td>188 Johnson Views Suite 079\\nLake Kathleen, CA...</td>\n",
       "    </tr>\n",
       "    <tr>\n",
       "      <th>2</th>\n",
       "      <td>61287.067179</td>\n",
       "      <td>5.865890</td>\n",
       "      <td>8.512727</td>\n",
       "      <td>5.13</td>\n",
       "      <td>36882.159400</td>\n",
       "      <td>1.058988e+06</td>\n",
       "      <td>9127 Elizabeth Stravenue\\nDanieltown, WI 06482...</td>\n",
       "    </tr>\n",
       "    <tr>\n",
       "      <th>3</th>\n",
       "      <td>63345.240046</td>\n",
       "      <td>7.188236</td>\n",
       "      <td>5.586729</td>\n",
       "      <td>3.26</td>\n",
       "      <td>34310.242831</td>\n",
       "      <td>1.260617e+06</td>\n",
       "      <td>USS Barnett\\nFPO AP 44820</td>\n",
       "    </tr>\n",
       "    <tr>\n",
       "      <th>4</th>\n",
       "      <td>59982.197226</td>\n",
       "      <td>5.040555</td>\n",
       "      <td>7.839388</td>\n",
       "      <td>4.23</td>\n",
       "      <td>26354.109472</td>\n",
       "      <td>6.309435e+05</td>\n",
       "      <td>USNS Raymond\\nFPO AE 09386</td>\n",
       "    </tr>\n",
       "  </tbody>\n",
       "</table>\n",
       "</div>"
      ]
     },
     "execution_count": 12,
     "metadata": {},
     "output_type": "execute_result"
    }
   ],
   "execution_count": 12
  },
  {
   "metadata": {
    "ExecuteTime": {
     "end_time": "2025-01-05T15:43:04.219677Z",
     "start_time": "2025-01-05T15:43:04.204418Z"
    }
   },
   "cell_type": "code",
   "source": "USAhousing=USAhousing.drop(\"Address\",axis=1) # drop ",
   "id": "617468300cb95ea9",
   "outputs": [],
   "execution_count": 13
  },
  {
   "metadata": {
    "ExecuteTime": {
     "end_time": "2025-01-05T15:43:04.756356Z",
     "start_time": "2025-01-05T15:43:04.733468Z"
    }
   },
   "cell_type": "code",
   "source": [
    "missing_values = USAhousing.isnull()\n",
    "missing_values.sum()"
   ],
   "id": "818b8496ec7a9053",
   "outputs": [
    {
     "data": {
      "text/plain": [
       "Avg. Area Income                0\n",
       "Avg. Area House Age             0\n",
       "Avg. Area Number of Rooms       0\n",
       "Avg. Area Number of Bedrooms    0\n",
       "Area Population                 0\n",
       "Price                           0\n",
       "dtype: int64"
      ]
     },
     "execution_count": 14,
     "metadata": {},
     "output_type": "execute_result"
    }
   ],
   "execution_count": 14
  },
  {
   "metadata": {
    "ExecuteTime": {
     "end_time": "2025-01-05T15:43:06.656267Z",
     "start_time": "2025-01-05T15:43:05.464141Z"
    }
   },
   "cell_type": "code",
   "source": [
    "from sklearn.model_selection import train_test_split\n",
    "X=USAhousing.drop(\"Price\",axis=1)\n",
    "y=USAhousing[\"Price\"]\n",
    "X_train,X_test,y_train,y_test=train_test_split(X,y,test_size=0.3)\n",
    "X_train_np=np.array(X_train)\n",
    "y_train_np=np.array(y_train)\n",
    "X_test_np=np.array(X_test)\n",
    "y_test_np=np.array(y_test)\n",
    "print(X_train_np.shape)"
   ],
   "id": "d045453ceaa8f34b",
   "outputs": [
    {
     "name": "stdout",
     "output_type": "stream",
     "text": [
      "(3500, 5)\n"
     ]
    }
   ],
   "execution_count": 15
  },
  {
   "metadata": {},
   "cell_type": "markdown",
   "source": "## Linear regression on real data (closed-form)",
   "id": "42a2694b1bda8d17"
  },
  {
   "metadata": {
    "ExecuteTime": {
     "end_time": "2025-01-05T15:43:08.711054Z",
     "start_time": "2025-01-05T15:43:08.693138Z"
    }
   },
   "cell_type": "code",
   "source": [
    "param= np.linalg.inv(X_train_np.T @ X_train_np) @ X_train_np.T @ y_train_np\n",
    "yhat= X_test_np @ param # yhat = [res1 res2 res3 res4 ...]\n",
    "loss_reg=np.sum((1/2*num_examples) * (y_test_np - yhat) ** 2, axis=0)\n",
    "print(loss_reg)"
   ],
   "id": "aa81ce7e987583bd",
   "outputs": [
    {
     "name": "stdout",
     "output_type": "stream",
     "text": [
      "212909053581894.66\n"
     ]
    }
   ],
   "execution_count": 16
  },
  {
   "metadata": {},
   "cell_type": "markdown",
   "source": "## Ridge regression",
   "id": "bb2fdd872a4f7067"
  },
  {
   "metadata": {
    "ExecuteTime": {
     "end_time": "2025-01-05T15:43:10.551923Z",
     "start_time": "2025-01-05T15:43:10.546582Z"
    }
   },
   "cell_type": "code",
   "source": "",
   "id": "cb49f85f9e4ac595",
   "outputs": [],
   "execution_count": null
  },
  {
   "metadata": {
    "ExecuteTime": {
     "end_time": "2025-01-05T15:43:20.889614Z",
     "start_time": "2025-01-05T15:43:20.868108Z"
    }
   },
   "cell_type": "code",
   "source": [
    "lambd=0.2\n",
    "I=np.identity(num_examples)\n",
    "param= np.linalg.inv(X_train_np.T @ X_train_np+ I*lambd) @ X_train_np.T @ y_train_np\n",
    "yhat= X_test_np @ param # yhat = [res1 res2 res3 res4 ...]\n",
    "loss_ridge=np.sum((1/2*num_examples) * (y_test_np - yhat) ** 2, axis=0)\n",
    "loss_ridge"
   ],
   "id": "22f855fc431ce5fe",
   "outputs": [
    {
     "data": {
      "text/plain": [
       "212908935140952.78"
      ]
     },
     "execution_count": 18,
     "metadata": {},
     "output_type": "execute_result"
    }
   ],
   "execution_count": 18
  },
  {
   "metadata": {
    "ExecuteTime": {
     "end_time": "2025-01-05T15:43:21.645724Z",
     "start_time": "2025-01-05T15:43:21.623687Z"
    }
   },
   "cell_type": "code",
   "source": "print(loss_reg<loss_ridge) ",
   "id": "f924dc5811c4a732",
   "outputs": [
    {
     "name": "stdout",
     "output_type": "stream",
     "text": [
      "False\n"
     ]
    }
   ],
   "execution_count": 19
  },
  {
   "metadata": {},
   "cell_type": "markdown",
   "source": "## Using scikit-learn",
   "id": "c467a0866edf9eff"
  },
  {
   "metadata": {},
   "cell_type": "markdown",
   "source": "",
   "id": "a5a299606f2ffdeb"
  },
  {
   "metadata": {
    "ExecuteTime": {
     "end_time": "2025-01-05T08:32:15.177467Z",
     "start_time": "2025-01-05T08:32:15.163165Z"
    }
   },
   "cell_type": "code",
   "source": [
    "from sklearn.linear_model import LinearRegression, Ridge, Lasso\n",
    "from sklearn.metrics import mean_squared_error\n",
    "linear_reg=LinearRegression()\n",
    "ridge=Ridge()\n",
    "lasso=Lasso()"
   ],
   "id": "7c9902e0ab3daf3a",
   "outputs": [],
   "execution_count": 149
  },
  {
   "metadata": {
    "ExecuteTime": {
     "end_time": "2025-01-05T08:32:15.560437Z",
     "start_time": "2025-01-05T08:32:15.547976Z"
    }
   },
   "cell_type": "code",
   "source": [
    "linear_reg.fit(X_train,y_train)\n",
    "\n",
    "yhat=linear_reg.predict(X_test)\n",
    "linear_mse=mean_squared_error(y_test,yhat)\n",
    "linear_mse"
   ],
   "id": "36415132d1cbbbf",
   "outputs": [
    {
     "data": {
      "text/plain": [
       "10568989039.20581"
      ]
     },
     "execution_count": 150,
     "metadata": {},
     "output_type": "execute_result"
    }
   ],
   "execution_count": 150
  },
  {
   "metadata": {
    "ExecuteTime": {
     "end_time": "2025-01-05T08:32:16.016436Z",
     "start_time": "2025-01-05T08:32:15.996444Z"
    }
   },
   "cell_type": "code",
   "source": [
    "ridge.fit(X_train,y_train)\n",
    "yhat=ridge.predict(X_test)\n",
    "ridge_mse=mean_squared_error(y_test,yhat)\n",
    "ridge_mse"
   ],
   "id": "662662ea7ba8ccc4",
   "outputs": [
    {
     "data": {
      "text/plain": [
       "10568771105.910372"
      ]
     },
     "execution_count": 151,
     "metadata": {},
     "output_type": "execute_result"
    }
   ],
   "execution_count": 151
  },
  {
   "metadata": {
    "ExecuteTime": {
     "end_time": "2025-01-05T08:32:16.587793Z",
     "start_time": "2025-01-05T08:32:16.572328Z"
    }
   },
   "cell_type": "code",
   "source": [
    "lasso.fit(X_train,y_train)\n",
    "yhat=lasso.predict(X_test)\n",
    "lasso_mse=mean_squared_error(y_test,yhat)\n",
    "lasso_mse"
   ],
   "id": "924335d5940339d3",
   "outputs": [
    {
     "data": {
      "text/plain": [
       "10568987763.88813"
      ]
     },
     "execution_count": 152,
     "metadata": {},
     "output_type": "execute_result"
    }
   ],
   "execution_count": 152
  },
  {
   "metadata": {
    "ExecuteTime": {
     "end_time": "2025-01-05T12:16:03.541044Z",
     "start_time": "2025-01-05T12:16:03.432897Z"
    }
   },
   "cell_type": "code",
   "source": "lasso.score(X_test,y_test)",
   "id": "9f44559a7359738",
   "outputs": [
    {
     "data": {
      "text/plain": [
       "0.9184667024614283"
      ]
     },
     "execution_count": 265,
     "metadata": {},
     "output_type": "execute_result"
    }
   ],
   "execution_count": 265
  },
  {
   "metadata": {},
   "cell_type": "markdown",
   "source": "## Comparison",
   "id": "a2c395d260b3c7fa"
  },
  {
   "metadata": {
    "ExecuteTime": {
     "end_time": "2025-01-05T08:32:17.748288Z",
     "start_time": "2025-01-05T08:32:17.729786Z"
    }
   },
   "cell_type": "code",
   "source": "linear_mse>ridge_mse # ridge is better",
   "id": "cbfb5405a9db832",
   "outputs": [
    {
     "data": {
      "text/plain": [
       "True"
      ]
     },
     "execution_count": 153,
     "metadata": {},
     "output_type": "execute_result"
    }
   ],
   "execution_count": 153
  },
  {
   "metadata": {
    "ExecuteTime": {
     "end_time": "2025-01-05T08:33:08.727877Z",
     "start_time": "2025-01-05T08:33:08.714711Z"
    }
   },
   "cell_type": "code",
   "source": "lasso_mse>ridge_mse # ridge is better ",
   "id": "dc4c5f7a8ee95897",
   "outputs": [
    {
     "data": {
      "text/plain": [
       "True"
      ]
     },
     "execution_count": 156,
     "metadata": {},
     "output_type": "execute_result"
    }
   ],
   "execution_count": 156
  },
  {
   "metadata": {},
   "cell_type": "markdown",
   "source": "after training, we can make predictions",
   "id": "ed63425f15dd7614"
  },
  {
   "metadata": {
    "ExecuteTime": {
     "end_time": "2025-01-05T08:14:14.165512Z",
     "start_time": "2025-01-05T08:14:14.154180Z"
    }
   },
   "cell_type": "code",
   "source": "X_test",
   "id": "15cb8d523f4d9f87",
   "outputs": [
    {
     "data": {
      "text/plain": [
       "      Avg. Area Income  Avg. Area House Age  Avg. Area Number of Rooms  \\\n",
       "1946      70125.765843             5.051254                   4.765903   \n",
       "885       73433.626232             7.107789                   6.227752   \n",
       "2869      63780.040152             5.044290                   5.890388   \n",
       "1728      45073.895176             8.333102                   4.635161   \n",
       "3043      46646.710541             6.331878                   6.726796   \n",
       "...                ...                  ...                        ...   \n",
       "1538      71112.350296             5.612677                   7.419542   \n",
       "2861      74909.724224             4.225888                   6.922915   \n",
       "3335      86249.993070             6.155403                   7.967184   \n",
       "4736      57889.329842             5.076125                   6.609567   \n",
       "2419      60319.431508             6.664388                   7.247688   \n",
       "\n",
       "      Avg. Area Number of Bedrooms  Area Population  \n",
       "1946                          4.34     22063.210619  \n",
       "885                           2.05     44544.230459  \n",
       "2869                          4.10     32010.228110  \n",
       "1728                          3.30     38066.161297  \n",
       "3043                          3.45     34006.865298  \n",
       "...                            ...              ...  \n",
       "1538                          4.26     24134.413996  \n",
       "2861                          2.29     40193.528715  \n",
       "3335                          4.39     43154.838627  \n",
       "4736                          4.00     27588.355851  \n",
       "2419                          4.38     33337.765377  \n",
       "\n",
       "[1500 rows x 5 columns]"
      ],
      "text/html": [
       "<div>\n",
       "<style scoped>\n",
       "    .dataframe tbody tr th:only-of-type {\n",
       "        vertical-align: middle;\n",
       "    }\n",
       "\n",
       "    .dataframe tbody tr th {\n",
       "        vertical-align: top;\n",
       "    }\n",
       "\n",
       "    .dataframe thead th {\n",
       "        text-align: right;\n",
       "    }\n",
       "</style>\n",
       "<table border=\"1\" class=\"dataframe\">\n",
       "  <thead>\n",
       "    <tr style=\"text-align: right;\">\n",
       "      <th></th>\n",
       "      <th>Avg. Area Income</th>\n",
       "      <th>Avg. Area House Age</th>\n",
       "      <th>Avg. Area Number of Rooms</th>\n",
       "      <th>Avg. Area Number of Bedrooms</th>\n",
       "      <th>Area Population</th>\n",
       "    </tr>\n",
       "  </thead>\n",
       "  <tbody>\n",
       "    <tr>\n",
       "      <th>1946</th>\n",
       "      <td>70125.765843</td>\n",
       "      <td>5.051254</td>\n",
       "      <td>4.765903</td>\n",
       "      <td>4.34</td>\n",
       "      <td>22063.210619</td>\n",
       "    </tr>\n",
       "    <tr>\n",
       "      <th>885</th>\n",
       "      <td>73433.626232</td>\n",
       "      <td>7.107789</td>\n",
       "      <td>6.227752</td>\n",
       "      <td>2.05</td>\n",
       "      <td>44544.230459</td>\n",
       "    </tr>\n",
       "    <tr>\n",
       "      <th>2869</th>\n",
       "      <td>63780.040152</td>\n",
       "      <td>5.044290</td>\n",
       "      <td>5.890388</td>\n",
       "      <td>4.10</td>\n",
       "      <td>32010.228110</td>\n",
       "    </tr>\n",
       "    <tr>\n",
       "      <th>1728</th>\n",
       "      <td>45073.895176</td>\n",
       "      <td>8.333102</td>\n",
       "      <td>4.635161</td>\n",
       "      <td>3.30</td>\n",
       "      <td>38066.161297</td>\n",
       "    </tr>\n",
       "    <tr>\n",
       "      <th>3043</th>\n",
       "      <td>46646.710541</td>\n",
       "      <td>6.331878</td>\n",
       "      <td>6.726796</td>\n",
       "      <td>3.45</td>\n",
       "      <td>34006.865298</td>\n",
       "    </tr>\n",
       "    <tr>\n",
       "      <th>...</th>\n",
       "      <td>...</td>\n",
       "      <td>...</td>\n",
       "      <td>...</td>\n",
       "      <td>...</td>\n",
       "      <td>...</td>\n",
       "    </tr>\n",
       "    <tr>\n",
       "      <th>1538</th>\n",
       "      <td>71112.350296</td>\n",
       "      <td>5.612677</td>\n",
       "      <td>7.419542</td>\n",
       "      <td>4.26</td>\n",
       "      <td>24134.413996</td>\n",
       "    </tr>\n",
       "    <tr>\n",
       "      <th>2861</th>\n",
       "      <td>74909.724224</td>\n",
       "      <td>4.225888</td>\n",
       "      <td>6.922915</td>\n",
       "      <td>2.29</td>\n",
       "      <td>40193.528715</td>\n",
       "    </tr>\n",
       "    <tr>\n",
       "      <th>3335</th>\n",
       "      <td>86249.993070</td>\n",
       "      <td>6.155403</td>\n",
       "      <td>7.967184</td>\n",
       "      <td>4.39</td>\n",
       "      <td>43154.838627</td>\n",
       "    </tr>\n",
       "    <tr>\n",
       "      <th>4736</th>\n",
       "      <td>57889.329842</td>\n",
       "      <td>5.076125</td>\n",
       "      <td>6.609567</td>\n",
       "      <td>4.00</td>\n",
       "      <td>27588.355851</td>\n",
       "    </tr>\n",
       "    <tr>\n",
       "      <th>2419</th>\n",
       "      <td>60319.431508</td>\n",
       "      <td>6.664388</td>\n",
       "      <td>7.247688</td>\n",
       "      <td>4.38</td>\n",
       "      <td>33337.765377</td>\n",
       "    </tr>\n",
       "  </tbody>\n",
       "</table>\n",
       "<p>1500 rows × 5 columns</p>\n",
       "</div>"
      ]
     },
     "execution_count": 126,
     "metadata": {},
     "output_type": "execute_result"
    }
   ],
   "execution_count": 126
  },
  {
   "metadata": {
    "ExecuteTime": {
     "end_time": "2025-01-05T08:16:19.850038Z",
     "start_time": "2025-01-05T08:16:19.846495Z"
    }
   },
   "cell_type": "code",
   "source": "test_example=X_test[:1]",
   "id": "7131abe3219ed88e",
   "outputs": [],
   "execution_count": 132
  },
  {
   "metadata": {
    "ExecuteTime": {
     "end_time": "2025-01-05T08:17:23.400519Z",
     "start_time": "2025-01-05T08:17:23.388023Z"
    }
   },
   "cell_type": "code",
   "source": [
    "print(\"linear regression\",linear_reg.predict(test_example))\n",
    "print(\"ridge regression\",ridge.predict(test_example))\n",
    "print(\"lasso regression\",lasso.predict(test_example))"
   ],
   "id": "b80d6f3d2d687a42",
   "outputs": [
    {
     "name": "stdout",
     "output_type": "stream",
     "text": [
      "linear regression [630089.35683382]\n",
      "ridge regression [630240.98570256]\n",
      "lasso regression [630092.01120932]\n"
     ]
    }
   ],
   "execution_count": 135
  },
  {
   "metadata": {},
   "cell_type": "markdown",
   "source": "we can do that for all examples at once",
   "id": "1ebeb13ea0e7519b"
  },
  {
   "metadata": {
    "ExecuteTime": {
     "end_time": "2025-01-05T08:17:43.787606Z",
     "start_time": "2025-01-05T08:17:43.780226Z"
    }
   },
   "cell_type": "code",
   "source": "ridge.predict(X_test)",
   "id": "284d8e0471a57f1c",
   "outputs": [
    {
     "data": {
      "text/plain": [
       "array([ 630240.98570256, 1560632.03839563,  778745.36949977, ...,\n",
       "       1871885.98380501,  675538.40276404, 1157303.29655001])"
      ]
     },
     "execution_count": 136,
     "metadata": {},
     "output_type": "execute_result"
    }
   ],
   "execution_count": 136
  },
  {
   "metadata": {},
   "cell_type": "markdown",
   "source": "## Feature importance",
   "id": "599994d30c74995d"
  },
  {
   "metadata": {
    "ExecuteTime": {
     "end_time": "2025-01-05T08:34:02.057056Z",
     "start_time": "2025-01-05T08:34:02.046995Z"
    }
   },
   "cell_type": "code",
   "source": "ridge.coef_ # weights [feature1 feature2 ...]",
   "id": "2894d0eba2ecb487",
   "outputs": [
    {
     "data": {
      "text/plain": [
       "array([2.16905422e+01, 1.66121893e+05, 1.20769669e+05, 1.11117858e+03,\n",
       "       1.52574911e+01])"
      ]
     },
     "execution_count": 157,
     "metadata": {},
     "output_type": "execute_result"
    }
   ],
   "execution_count": 157
  },
  {
   "metadata": {
    "ExecuteTime": {
     "end_time": "2025-01-05T08:40:48.978986Z",
     "start_time": "2025-01-05T08:40:48.894685Z"
    }
   },
   "cell_type": "code",
   "source": [
    "ridge_importance = list(zip(X.columns, ridge.coef_))\n",
    "\n",
    "features, coefficients = zip(*ridge_importance)\n",
    "plt.barh(features, coefficients, color='darkblue')"
   ],
   "id": "d799f31609bff6a1",
   "outputs": [
    {
     "data": {
      "text/plain": [
       "<BarContainer object of 5 artists>"
      ]
     },
     "execution_count": 160,
     "metadata": {},
     "output_type": "execute_result"
    },
    {
     "data": {
      "text/plain": [
       "<Figure size 640x480 with 1 Axes>"
      ],
      "image/png": "[encoded data removed]"
     },
     "metadata": {},
     "output_type": "display_data"
    }
   ],
   "execution_count": 160
  },
  {
   "metadata": {
    "ExecuteTime": {
     "end_time": "2025-01-05T08:41:42.597021Z",
     "start_time": "2025-01-05T08:41:42.510078Z"
    }
   },
   "cell_type": "code",
   "source": [
    "lasso_importance = list(zip(X.columns, lasso.coef_))\n",
    "\n",
    "features, coefficients = zip(*lasso_importance)\n",
    "plt.barh(features, coefficients, color='darkblue')"
   ],
   "id": "caae1764bdd80438",
   "outputs": [
    {
     "data": {
      "text/plain": [
       "<BarContainer object of 5 artists>"
      ]
     },
     "execution_count": 161,
     "metadata": {},
     "output_type": "execute_result"
    },
    {
     "data": {
      "text/plain": [
       "<Figure size 640x480 with 1 Axes>"
      ],
      "image/png": "[encoded data removed]"
     },
     "metadata": {},
     "output_type": "display_data"
    }
   ],
   "execution_count": 161
  },
  {
   "metadata": {
    "ExecuteTime": {
     "end_time": "2025-01-05T08:42:23.942562Z",
     "start_time": "2025-01-05T08:42:23.721627Z"
    }
   },
   "cell_type": "code",
   "source": [
    "linear_importance = list(zip(X.columns, linear_reg.coef_))\n",
    "features, coefficients = zip(*linear_importance)\n",
    "plt.barh(features, coefficients, color='darkblue')"
   ],
   "id": "18198002c405f20c",
   "outputs": [
    {
     "data": {
      "text/plain": [
       "<BarContainer object of 5 artists>"
      ]
     },
     "execution_count": 162,
     "metadata": {},
     "output_type": "execute_result"
    },
    {
     "data": {
      "text/plain": [
       "<Figure size 640x480 with 1 Axes>"
      ],
      "image/png": "[encoded data removed]"
     },
     "metadata": {},
     "output_type": "display_data"
    }
   ],
   "execution_count": 162
  },
  {
   "metadata": {},
   "cell_type": "markdown",
   "source": "## Other models",
   "id": "1e04eb17de78ddd8"
  },
  {
   "metadata": {
    "ExecuteTime": {
     "end_time": "2025-01-05T08:24:03.413933Z",
     "start_time": "2025-01-05T08:24:03.223107Z"
    }
   },
   "cell_type": "code",
   "source": [
    "from sklearn.tree import DecisionTreeRegressor\n",
    "from sklearn.ensemble import RandomForestRegressor\n",
    "from lightgbm import LGBMRegressor"
   ],
   "id": "b624f776ebb0355a",
   "outputs": [],
   "execution_count": 137
  },
  {
   "metadata": {
    "ExecuteTime": {
     "end_time": "2025-01-05T08:24:03.914684Z",
     "start_time": "2025-01-05T08:24:03.898535Z"
    }
   },
   "cell_type": "code",
   "source": [
    "tree=DecisionTreeRegressor()\n",
    "rf=RandomForestRegressor()\n",
    "lgb=LGBMRegressor()"
   ],
   "id": "401c07abe6ff94be",
   "outputs": [],
   "execution_count": 138
  },
  {
   "metadata": {
    "ExecuteTime": {
     "end_time": "2025-01-05T08:24:04.434816Z",
     "start_time": "2025-01-05T08:24:04.390854Z"
    }
   },
   "cell_type": "code",
   "source": [
    "tree.fit(X_train,y_train)\n",
    "tree_score=tree.score(X_test,y_test)\n",
    "tree_score"
   ],
   "id": "35bbcec8e118086",
   "outputs": [
    {
     "data": {
      "text/plain": [
       "0.7560273875463748"
      ]
     },
     "execution_count": 139,
     "metadata": {},
     "output_type": "execute_result"
    }
   ],
   "execution_count": 139
  },
  {
   "metadata": {
    "ExecuteTime": {
     "end_time": "2025-01-05T08:24:06.367289Z",
     "start_time": "2025-01-05T08:24:04.958431Z"
    }
   },
   "cell_type": "code",
   "source": [
    "rf.fit(X_train,y_train)\n",
    "rf_score=rf.score(X_test,y_test)\n",
    "rf_score"
   ],
   "id": "452a07c25c4fb4b6",
   "outputs": [
    {
     "data": {
      "text/plain": [
       "0.8842743825007906"
      ]
     },
     "execution_count": 140,
     "metadata": {},
     "output_type": "execute_result"
    }
   ],
   "execution_count": 140
  },
  {
   "metadata": {
    "ExecuteTime": {
     "end_time": "2025-01-05T08:24:06.647918Z",
     "start_time": "2025-01-05T08:24:06.438552Z"
    }
   },
   "cell_type": "code",
   "source": [
    "lgb.fit(X_train,y_train)\n",
    "lgb_score=lgb.score(X_test,y_test)\n",
    "lgb_score"
   ],
   "id": "e9ec72d22353f8b2",
   "outputs": [
    {
     "name": "stdout",
     "output_type": "stream",
     "text": [
      "[LightGBM] [Warning] Found whitespace in feature_names, replace with underlines\n",
      "[LightGBM] [Info] Auto-choosing row-wise multi-threading, the overhead of testing was 0.000168 seconds.\n",
      "You can set `force_row_wise=true` to remove the overhead.\n",
      "And if memory is not enough, you can set `force_col_wise=true`.\n",
      "[LightGBM] [Info] Total Bins 1256\n",
      "[LightGBM] [Info] Number of data points in the train set: 3500, number of used features: 5\n",
      "[LightGBM] [Info] Start training from score 1231827.504704\n"
     ]
    },
    {
     "data": {
      "text/plain": [
       "0.9005007206635787"
      ]
     },
     "execution_count": 141,
     "metadata": {},
     "output_type": "execute_result"
    }
   ],
   "execution_count": 141
  },
  {
   "metadata": {},
   "cell_type": "markdown",
   "source": "## Random forest feature importance",
   "id": "7ca920ef4262dce1"
  },
  {
   "metadata": {
    "ExecuteTime": {
     "end_time": "2025-01-05T08:44:14.154414Z",
     "start_time": "2025-01-05T08:44:14.048054Z"
    }
   },
   "cell_type": "code",
   "source": [
    "rf_importance = list(zip(X.columns, rf.feature_importances_))\n",
    "features, coefficients = zip(*linear_importance)\n",
    "plt.barh(features, coefficients, color='green')"
   ],
   "id": "f34c7db213f3c7a7",
   "outputs": [
    {
     "data": {
      "text/plain": [
       "<BarContainer object of 5 artists>"
      ]
     },
     "execution_count": 164,
     "metadata": {},
     "output_type": "execute_result"
    },
    {
     "data": {
      "text/plain": [
       "<Figure size 640x480 with 1 Axes>"
      ],
      "image/png": "[encoded data removed]"
     },
     "metadata": {},
     "output_type": "display_data"
    }
   ],
   "execution_count": 164
  },
  {
   "metadata": {},
   "cell_type": "code",
   "outputs": [],
   "execution_count": null,
   "source": "",
   "id": "8477bd238d16281"
  }
 ],
 "metadata": {
  "kernelspec": {
   "display_name": "Python 3",
   "language": "python",
   "name": "python3"
  },
  "language_info": {
   "codemirror_mode": {
    "name": "ipython",
    "version": 2
   },
   "file_extension": ".py",
   "mimetype": "text/x-python",
   "name": "python",
   "nbconvert_exporter": "python",
   "pygments_lexer": "ipython2",
   "version": "2.7.6"
  }
 },
 "nbformat": 4,
 "nbformat_minor": 5
}

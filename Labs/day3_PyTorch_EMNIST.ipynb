{
  "cells": [
    {
      "cell_type": "code",
      "execution_count": 26,
      "metadata": {
        "id": "zcWdmzFF6Wy3"
      },
      "outputs": [],
      "source": [
        "import torch\n",
        "import torch.nn as nn\n",
        "import torch.optim as optim\n",
        "import torch.nn.functional as F\n",
        "import matplotlib.pyplot as plt\n",
        "\n",
        "# from tqdm.notebook import tqdm\n",
        "from tqdm import tqdm\n",
        "\n",
        "#not in scope of this course\n",
        "## ------------- this changed to EMNIST  ------------ ##\n",
        "from torchvision.datasets import EMNIST\n",
        "import torchvision.transforms as T\n",
        "from torch.utils.data import DataLoader\n"
      ]
    },
    {
      "cell_type": "code",
      "execution_count": 27,
      "metadata": {
        "id": "g9ypghZR7E1p"
      },
      "outputs": [],
      "source": [
        "## ------------- this changed to EMNIST with the addition of split becuase it is a requierd arg ------------ ##\n",
        "train_dataset = EMNIST(\".\", download = True, train = True, split = \"letters\" , transform = T.ToTensor())\n",
        "test_dataset = EMNIST(\".\", download = True, train = False, split = \"letters\",  transform = T.ToTensor())\n"
      ]
    },
    {
      "cell_type": "code",
      "execution_count": 28,
      "metadata": {
        "colab": {
          "base_uri": "https://localhost:8080/"
        },
        "id": "cAJTh7HoUGoT",
        "outputId": "f0ad7570-d78f-48bd-db3f-9d20e1a7f28c"
      },
      "outputs": [
        {
          "output_type": "stream",
          "name": "stdout",
          "text": [
            "Class names: ['N/A', 'a', 'b', 'c', 'd', 'e', 'f', 'g', 'h', 'i', 'j', 'k', 'l', 'm', 'n', 'o', 'p', 'q', 'r', 's', 't', 'u', 'v', 'w', 'x', 'y', 'z']\n",
            "\n",
            "Number of classes: 27\n",
            "\n",
            "Class to index: {'N/A': 0, 'a': 1, 'b': 2, 'c': 3, 'd': 4, 'e': 5, 'f': 6, 'g': 7, 'h': 8, 'i': 9, 'j': 10, 'k': 11, 'l': 12, 'm': 13, 'n': 14, 'o': 15, 'p': 16, 'q': 17, 'r': 18, 's': 19, 't': 20, 'u': 21, 'v': 22, 'w': 23, 'x': 24, 'y': 25, 'z': 26}\n",
            "\n",
            "train_dataset.data.shape torch.Size([124800, 28, 28])\n",
            "\n",
            "test_dataset.data.shape torch.Size([20800, 28, 28])\n"
          ]
        }
      ],
      "source": [
        "print(\"Class names:\", train_dataset.classes)\n",
        "print(\"\\nNumber of classes:\", len(train_dataset.classes))\n",
        "print(\"\\nClass to index:\", train_dataset.class_to_idx)\n",
        "\n",
        "print(\"\\ntrain_dataset.data.shape\",train_dataset.data.shape)\n",
        "print(\"\\ntest_dataset.data.shape\",test_dataset.data.shape)\n",
        "\n"
      ]
    },
    {
      "cell_type": "code",
      "execution_count": 29,
      "metadata": {
        "colab": {
          "base_uri": "https://localhost:8080/"
        },
        "id": "vPZq_vzw7RNz",
        "outputId": "fc6da649-2c1a-4bbe-893b-9183d878c243"
      },
      "outputs": [
        {
          "output_type": "stream",
          "name": "stdout",
          "text": [
            "Number of batches for train:  1950\n",
            "Batch size for train:  64\n",
            "Number of batches for test:  325\n",
            "Batch size for test:  64\n",
            "\n",
            "Images:  torch.Size([64, 1, 28, 28])\n",
            "Labels:  torch.Size([64])\n"
          ]
        }
      ],
      "source": [
        "bs = 64\n",
        "\n",
        "train_loader = DataLoader(train_dataset, batch_size = bs)\n",
        "test_loader = DataLoader(test_dataset, batch_size = bs)\n",
        "\n",
        "\n",
        "\n",
        "print(\"Number of batches for train: \",len(train_loader))\n",
        "print(\"Batch size for train: \",train_loader.batch_size)\n",
        "\n",
        "print(\"Number of batches for test: \",len(test_loader))\n",
        "print(\"Batch size for test: \",test_loader.batch_size)\n",
        "\n",
        "print()\n",
        "for images, labels in train_loader:\n",
        "    print(\"Images: \",images.shape)\n",
        "    print(\"Labels: \",labels.shape)\n",
        "    break\n",
        "\n"
      ]
    },
    {
      "cell_type": "markdown",
      "metadata": {
        "id": "Sgy9hU0DUGoU"
      },
      "source": [
        "## $\\color{lightblue}{\\text{Why from 28×28×1 to 1×28×28?}}$\n",
        "## $\\color{lightblue}{\\text{PyTorch convention is (batch_size, channels, height, width)}}$"
      ]
    },
    {
      "cell_type": "markdown",
      "metadata": {
        "id": "NBETITp396AM"
      },
      "source": [
        "# Tasks\n",
        "#1) Create at least 4 layers NN to classify the dataset     \n",
        "#2) Train the neural network on train dataset       \n",
        "#3) Show the training loss      \n",
        "#4) Calculate the accuracy on test set      \n",
        "#5) Show a few incorrectly classified samples       \n",
        "#6) Calculate class-wise accuracy (implement the function yourself)     "
      ]
    },
    {
      "cell_type": "markdown",
      "metadata": {
        "id": "QORiVsWi0hOT"
      },
      "source": [
        "# Neural Network\n",
        "\n",
        "---\n",
        "\n"
      ]
    },
    {
      "cell_type": "code",
      "execution_count": 30,
      "metadata": {
        "id": "X-ijhTI1guNp"
      },
      "outputs": [],
      "source": [
        "# # Define the neural network\n",
        "# class My_NN(nn.Module):\n",
        "#     def __init__(self, ni, nh1, nh2, nh3, no):\n",
        "#         super(My_NN, self).__init__()\n",
        "#         self.layer1 = nn.Linear(ni, nh1)\n",
        "#         self.layer2 = nn.Linear(nh1, nh2)\n",
        "#         self.layer3 = nn.Linear(nh2, nh3)\n",
        "#         self.layer4 = nn.Linear(nh3, no)\n",
        "\n",
        "#     def forward(self, x):\n",
        "#         x = x.view(-1, ni)\n",
        "#         x = F.sigmoid(self.layer1(x))\n",
        "#         x = F.sigmoid(self.layer2(x))\n",
        "#         x = F.sigmoid(self.layer3(x))\n",
        "#         x = self.layer4(x)\n",
        "#         return x\n",
        "\n",
        "#---------------------------------------------------------------$$\n",
        "##      sigmoid doesn't give good accuracy score , 10%\n",
        "#---------------------------------------------------------------$$"
      ]
    },
    {
      "cell_type": "code",
      "execution_count": 31,
      "metadata": {
        "id": "ehuPx2npnYC8"
      },
      "outputs": [],
      "source": [
        "# Define the neural network\n",
        "class My_NN(nn.Module):\n",
        "    def __init__(self, ni, nh1, nh2, nh3, no):\n",
        "        super(My_NN, self).__init__()\n",
        "        self.layer1 = nn.Linear(ni, nh1)\n",
        "        self.layer2 = nn.Linear(nh1, nh2)\n",
        "        self.layer3 = nn.Linear(nh2, nh3)\n",
        "        self.layer4 = nn.Linear(nh3, no)\n",
        "\n",
        "    def forward(self, x):\n",
        "        # before x.view = [64, 1, 28, 28]\n",
        "        x = x.view(-1, ni)  # reshape to [64, 28*28]\n",
        "        x = F.relu(self.layer1(x))\n",
        "        x = F.relu(self.layer2(x))\n",
        "        x = F.relu(self.layer3(x))\n",
        "        x = self.layer4(x)\n",
        "        return x\n",
        "\n",
        "#---------------------------------------------------------------$$\n",
        "##      i think both leaky_relu and relu give the same results\n",
        "#---------------------------------------------------------------$$\n"
      ]
    },
    {
      "cell_type": "markdown",
      "metadata": {
        "id": "iJpp_GRI0qyr"
      },
      "source": [
        "# Hyper prameters\n",
        "\n",
        "---\n",
        "\n"
      ]
    },
    {
      "cell_type": "code",
      "execution_count": 32,
      "metadata": {
        "colab": {
          "base_uri": "https://localhost:8080/"
        },
        "id": "RIDvS-CpgyV4",
        "outputId": "52e39e2f-365c-422b-a114-6517a11bf3b9"
      },
      "outputs": [
        {
          "output_type": "stream",
          "name": "stdout",
          "text": [
            "cuda:0\n"
          ]
        }
      ],
      "source": [
        "# Hyper prameters\n",
        "## ------------- changed the input ------------ ##\n",
        "ni = 28 *28         # 28 * 28 * 1 Input layer size\n",
        "## ------------- changed the input ------------ ##\n",
        "\n",
        "nh1 = 512         # Hidden layer 1 size\n",
        "nh2 = 256          # Hidden layer 2 size\n",
        "nh3 = 128          # Hidden layer 3 size\n",
        "\n",
        "## ------------- changed the output ------------ ##\n",
        "no = 27           # Output layer size (number of classes for EMNIST)\n",
        "## ------------- changed the output ------------ ##\n",
        "\n",
        "# cuda:0 refers to first GPU, fallback to CPU if no GPU\n",
        "device = torch.device('cuda:0' if torch.cuda.is_available() else 'cpu')\n",
        "\n",
        "print(device)\n",
        "\n",
        "lr = 0.01\n",
        "mm = 0.5\n",
        "\n",
        "\n",
        "epochs = 25\n",
        "ls = []\n"
      ]
    },
    {
      "cell_type": "code",
      "execution_count": 33,
      "metadata": {
        "id": "HJPDkcW4g0VH"
      },
      "outputs": [],
      "source": [
        "# Create the neural network\n",
        "model = My_NN(ni, nh1, nh2, nh3, no).to(device)\n"
      ]
    },
    {
      "cell_type": "markdown",
      "metadata": {
        "id": "b164yby508Dp"
      },
      "source": [
        "# Loss and Optim\n",
        "\n",
        "---\n",
        "\n"
      ]
    },
    {
      "cell_type": "code",
      "execution_count": 34,
      "metadata": {
        "id": "pC8PeLRNhCFX"
      },
      "outputs": [],
      "source": [
        "# Define loss function and optimizer\n",
        "\n",
        "loss_fn = nn.CrossEntropyLoss()\n",
        "optimizer = optim.SGD(model.parameters(), lr=lr, momentum=mm)\n",
        "#---------------------------------------------------------------------------------------------------------------------------------------$$\n",
        "#_______  using Adam leads to oscillation in the loss, and it's quite abnormal , _______\n",
        "#_______  with SGD and relu about 48 acuracy can be achieved with 15 epochs and 0.01 learning_rate _______\n",
        "#----------------------------------------------------------------------------------------------------------------------------------------$$\n"
      ]
    },
    {
      "cell_type": "markdown",
      "metadata": {
        "id": "2CVMn_ey1AiG"
      },
      "source": [
        "# Training\n",
        "\n",
        "---\n",
        "\n"
      ]
    },
    {
      "cell_type": "markdown",
      "metadata": {
        "id": "0nBtHJk5ZGZY"
      },
      "source": [
        "```python  \n",
        "\n",
        "%%time\n",
        "total_loss = 0.0\n",
        "\n",
        "for epoch in range(epochs):\n",
        "    print(f'Epoch [{epoch+1}/{epochs}] started...')\n",
        "    \n",
        "    for inputs, labels in train_loader:\n",
        "        inputs, labels = inputs.to(device), labels.to(device)  # Move inputs and labels to the device('cuda:0')\n",
        "        optimizer.zero_grad()  # zero the gradients\n",
        "        outputs = model(inputs)\n",
        "        loss = loss_fn(outputs, labels)\n",
        "        loss.backward()  # compute gradients\n",
        "        optimizer.step()  # update the weights -lr * gradient\n",
        "        \n",
        "        total_loss += loss.item()\n",
        "    \n",
        "    loss = total_loss / ((epoch + 1) * len(train_loader))\n",
        "    ls.append(loss)\n",
        "    print(f'Epoch [{epoch+1}/{epochs}] completed. Loss: {loss:.4f}')\n",
        "\n",
        "```    "
      ]
    },
    {
      "cell_type": "markdown",
      "metadata": {
        "id": "HhjODmPqZtyK"
      },
      "source": [
        "```\n",
        "u can just use the above code if you dont want the progress bar\n",
        "```"
      ]
    },
    {
      "cell_type": "code",
      "execution_count": 35,
      "metadata": {
        "colab": {
          "base_uri": "https://localhost:8080/"
        },
        "id": "9JJpWYtFfhfE",
        "outputId": "ed351ce0-f99d-40cc-9621-4ccc297974ff"
      },
      "outputs": [
        {
          "output_type": "stream",
          "name": "stderr",
          "text": [
            "Training: 100%|██████████| 48750/48750 [11:04<00:00, 73.36it/s, epoch=25/25, loss=0.3885]"
          ]
        },
        {
          "output_type": "stream",
          "name": "stdout",
          "text": [
            "CPU times: user 9min 54s, sys: 18.5 s, total: 10min 13s\n",
            "Wall time: 11min 4s\n"
          ]
        },
        {
          "output_type": "stream",
          "name": "stderr",
          "text": [
            "\n"
          ]
        }
      ],
      "source": [
        "%%time\n",
        "\n",
        "## --------- for pb = (progress bar) u can remove it ---------\n",
        "# Calculate total steps (batches * epochs) for the progress bar\n",
        "pbar = tqdm(total = epochs * len(train_loader), desc='Training')\n",
        "## --------- for pb = (progress bar) u can remove it ---------\n",
        "\n",
        "\n",
        "total_loss = 0.0\n",
        "\n",
        "for epoch in range(epochs):\n",
        "    for inputs, labels in train_loader:\n",
        "        inputs, labels = inputs.to(device), labels.to(device)  # Move inputs and labels to the device('cuda:0')\n",
        "        optimizer.zero_grad()  # zero the gradients\n",
        "        outputs = model(inputs)\n",
        "        loss = loss_fn(outputs, labels)\n",
        "        loss.backward()  # compute gradients\n",
        "        optimizer.step()  # update the weights -lr * gradient\n",
        "        total_loss += loss.item()\n",
        "\n",
        "\n",
        "        ## --------- for pb = (progress bar) u can remove it ---------\n",
        "        current_loss = total_loss / (pbar.n + 1)  # pbar.n tracks number of completed steps\n",
        "        pbar.update(1)  # Increment progress by 1 step\n",
        "        pbar.set_postfix({'epoch': f'{epoch+1}/{epochs}', 'loss': f'{current_loss:.4f}'})\n",
        "        ## --------- for pb = (progress bar) u can remove it ---------\n",
        "\n",
        "    # Calculate average loss for the epoch\n",
        "    loss = total_loss / ((epoch + 1) * len(train_loader))\n",
        "    ls.append(loss)\n",
        "\n",
        "pbar.close()  # Clean up the progress bar"
      ]
    },
    {
      "cell_type": "markdown",
      "metadata": {
        "id": "84pZtXoe1EQJ"
      },
      "source": [
        "# Loss plot\n",
        "\n",
        "---\n",
        "\n"
      ]
    },
    {
      "cell_type": "code",
      "execution_count": 36,
      "metadata": {
        "colab": {
          "base_uri": "https://localhost:8080/",
          "height": 453
        },
        "id": "uOK8iNYHfiNX",
        "outputId": "eaac9ff5-677d-4bf9-bfeb-75e83ce5791f"
      },
      "outputs": [
        {
          "output_type": "execute_result",
          "data": {
            "text/plain": [
              "[<matplotlib.lines.Line2D at 0x7a2308165e70>]"
            ]
          },
          "metadata": {},
          "execution_count": 36
        },
        {
          "output_type": "display_data",
          "data": {
            "text/plain": [
              "<Figure size 640x480 with 1 Axes>"
            ],
            "image/png": "[encoded data removed]"
          },
          "metadata": {}
        }
      ],
      "source": [
        "# Plot the training loss\n",
        "plt.plot(ls)"
      ]
    },
    {
      "cell_type": "markdown",
      "metadata": {
        "id": "FTueLAUc1QG9"
      },
      "source": [
        "# Accuracy\n",
        "\n",
        "---\n",
        "\n"
      ]
    },
    {
      "cell_type": "markdown",
      "metadata": {
        "id": "OzVF4E6uWpc1"
      },
      "source": [
        "```python\n",
        "the following is called logits, or raw score:\n",
        "\n",
        "[-1.2, 2.5, 0.8, -0.3, 1.1, -0.5, 0.9, 1.7, -0.2, 0.4]\n",
        "  │    │    │     │    │     │    │    │     │    └── truck\n",
        "  │    │    │     │    │     │    │    │     └──── ship\n",
        "  │    │    │     │    │     │    │    └────── horse\n",
        "  │    │    │     │    │     │    └───────── frog\n",
        "  │    │    │     │    │     └──────────── dog\n",
        "  │    │    │     │    └────────────── deer\n",
        "  │    │    │     └──────────────── cat\n",
        "  │    │    └─────────────────── bird\n",
        "  │    └──────────────────── automobile (highest score: 2.5)\n",
        "  └───────────────────── airplane\n",
        "  ```\n",
        "\n",
        "  argmax basically looks for the higst value and returns to you its index , in this case :\n",
        "  ```\n",
        "  index = 1\n",
        "  ```\n"
      ]
    },
    {
      "cell_type": "code",
      "execution_count": 37,
      "metadata": {
        "colab": {
          "base_uri": "https://localhost:8080/"
        },
        "id": "MNfDzwg3iao4",
        "outputId": "cb1e4276-6026-437d-9859-bd8879428bb3"
      },
      "outputs": [
        {
          "output_type": "stream",
          "name": "stdout",
          "text": [
            "Accuracy on Test Set: 90.56%\n"
          ]
        }
      ],
      "source": [
        "# Evaluate the accuracy on the test set\n",
        "model.eval()\n",
        "correct = 0  # Initialize the number of correctly predicted samples\n",
        "total = 0    # Initialize the total number of samples\n",
        "\n",
        "# Disable gradient computation during inference\n",
        "with torch.no_grad():\n",
        "    for inputs, labels in test_loader:\n",
        "      inputs, labels = inputs.to(device), labels.to(device) # Move inputs and labels to the device('cuda:0')\n",
        "      outputs = model(inputs)  # Forward pass\n",
        "      predicted_labels = torch.argmax(outputs, dim=1)  # Get predicted labels by finding the index of the maximum value\n",
        "      correct += torch.sum(predicted_labels == labels).item()  # Count the number of correct predictions\n",
        "      total += labels.size(0)  # Update the total number of samples\n",
        "\n",
        "accuracy = correct / total  # Calculate accuracy\n",
        "print(f'Accuracy on Test Set: {accuracy * 100:.2f}%')  # Print the accuracy in percentage\n"
      ]
    },
    {
      "cell_type": "markdown",
      "metadata": {
        "id": "479CMSKP1UxP"
      },
      "source": [
        "# Mispredicted  and correctly predicted labels\n",
        "\n",
        "---\n",
        "\n"
      ]
    },
    {
      "cell_type": "code",
      "execution_count": 38,
      "metadata": {
        "colab": {
          "base_uri": "https://localhost:8080/",
          "height": 1000
        },
        "id": "kTku46aTihIG",
        "outputId": "d401ea73-2073-4f88-f9e3-845feca9b4a6"
      },
      "outputs": [
        {
          "output_type": "stream",
          "name": "stdout",
          "text": [
            "\n",
            "Incorrect classified samples:\n"
          ]
        },
        {
          "output_type": "display_data",
          "data": {
            "text/plain": [
              "<Figure size 640x480 with 1 Axes>"
            ],
            "image/png": "[encoded data removed]"
          },
          "metadata": {}
        },
        {
          "output_type": "display_data",
          "data": {
            "text/plain": [
              "<Figure size 640x480 with 1 Axes>"
            ],
            "image/png": "[encoded data removed]"
          },
          "metadata": {}
        },
        {
          "output_type": "display_data",
          "data": {
            "text/plain": [
              "<Figure size 640x480 with 1 Axes>"
            ],
            "image/png": "[encoded data removed]"
          },
          "metadata": {}
        },
        {
          "output_type": "stream",
          "name": "stdout",
          "text": [
            "\n",
            "Correct classified samples:\n"
          ]
        },
        {
          "output_type": "display_data",
          "data": {
            "text/plain": [
              "<Figure size 640x480 with 1 Axes>"
            ],
            "image/png": "[encoded data removed]"
          },
          "metadata": {}
        },
        {
          "output_type": "display_data",
          "data": {
            "text/plain": [
              "<Figure size 640x480 with 1 Axes>"
            ],
            "image/png": "[encoded data removed]"
          },
          "metadata": {}
        },
        {
          "output_type": "display_data",
          "data": {
            "text/plain": [
              "<Figure size 640x480 with 1 Axes>"
            ],
            "image/png": "[encoded data removed]"
          },
          "metadata": {}
        }
      ],
      "source": [
        "## ------------- changed the classes------------ ##\n",
        "class_names = ['N/A', 'a', 'b', 'c', 'd', 'e', 'f', 'g', 'h', 'i', 'j', 'k', 'l', 'm', 'n', 'o', 'p', 'q', 'r', 's', 't', 'u', 'v', 'w', 'x', 'y', 'z']\n",
        "## ------------- changed the classes------------ ##\n",
        "\n",
        "model.eval()\n",
        "samples = {'correct': [], 'incorrect': []}\n",
        "\n",
        "with torch.no_grad():\n",
        "    for inputs, labels in test_loader:\n",
        "        inputs, labels = inputs.to(device), labels.to(device)\n",
        "        predicted = torch.argmax(model(inputs), dim=1)\n",
        "\n",
        "        for i, (pred, label) in enumerate(zip(predicted, labels)):\n",
        "            category = 'correct' if pred == label else 'incorrect'\n",
        "            samples[category].append((inputs[i], pred.item(), label.item()))\n",
        "\n",
        "for category in ['incorrect', 'correct']:\n",
        "    print(f\"\\n{category.capitalize()} classified samples:\")\n",
        "    for image, pred, true in samples[category][:3]:\n",
        "        plt.imshow(T.ToPILImage()(image))\n",
        "        plt.title(f'Predicted: {class_names[pred]}, True: {class_names[true]}')\n",
        "        plt.show()\n"
      ]
    },
    {
      "cell_type": "markdown",
      "metadata": {
        "id": "YnId1mN11Y_G"
      },
      "source": [
        "# Clss_wise accuracy\n",
        "\n",
        "---\n",
        "\n"
      ]
    },
    {
      "cell_type": "code",
      "execution_count": 39,
      "metadata": {
        "colab": {
          "base_uri": "https://localhost:8080/"
        },
        "id": "V1Kh-iC7i4sq",
        "outputId": "2b0ab255-352f-490a-cef2-c94d12738a6b"
      },
      "outputs": [
        {
          "output_type": "stream",
          "name": "stdout",
          "text": [
            "Accuracy of class 0: nan%\n",
            "Accuracy of class 1: 90.62%\n",
            "Accuracy of class 2: 87.38%\n",
            "Accuracy of class 3: 96.00%\n",
            "Accuracy of class 4: 91.50%\n",
            "Accuracy of class 5: 93.00%\n",
            "Accuracy of class 6: 91.75%\n",
            "Accuracy of class 7: 76.88%\n",
            "Accuracy of class 8: 92.12%\n",
            "Accuracy of class 9: 79.50%\n",
            "Accuracy of class 10: 89.62%\n",
            "Accuracy of class 11: 90.62%\n",
            "Accuracy of class 12: 70.75%\n",
            "Accuracy of class 13: 97.25%\n",
            "Accuracy of class 14: 91.88%\n",
            "Accuracy of class 15: 94.38%\n",
            "Accuracy of class 16: 96.62%\n",
            "Accuracy of class 17: 80.62%\n",
            "Accuracy of class 18: 88.50%\n",
            "Accuracy of class 19: 93.38%\n",
            "Accuracy of class 20: 96.12%\n",
            "Accuracy of class 21: 93.88%\n",
            "Accuracy of class 22: 92.88%\n",
            "Accuracy of class 23: 95.25%\n",
            "Accuracy of class 24: 92.88%\n",
            "Accuracy of class 25: 93.88%\n",
            "Accuracy of class 26: 97.25%\n"
          ]
        }
      ],
      "source": [
        "# Calculate class-wise accuracy\n",
        "model.eval()\n",
        "\n",
        "## ------------- changed to 27 becuase we have 27 calsses ------------ ##\n",
        "class_correct = torch.zeros(27, device=device)\n",
        "class_total = torch.zeros(27, device=device)\n",
        "## ------------- changed to 27 becuase we have 27 calsses ------------ ##\n",
        "\n",
        "with torch.no_grad():\n",
        "    for inputs, labels in test_loader:\n",
        "      inputs, labels = inputs.to(device), labels.to(device)\n",
        "      predicted = torch.argmax(model(inputs), dim=1)\n",
        "      ## ------------- changed to 27 becuase we have 27 calsses ------------ ##\n",
        "      for label in range(27):\n",
        "        mask = (labels == label)\n",
        "        class_total[label] += mask.sum()\n",
        "        class_correct[label] += ((predicted == labels) & mask).sum()\n",
        "\n",
        "for i, (correct, total) in enumerate(zip(class_correct, class_total)):\n",
        "    acc = (correct / total * 100).item()\n",
        "    print(f'Accuracy of class {i}: {acc:.2f}%')\n"
      ]
    },
    {
      "cell_type": "code",
      "execution_count": 39,
      "metadata": {
        "id": "68LqJ-689u6b"
      },
      "outputs": [],
      "source": []
    }
  ],
  "metadata": {
    "accelerator": "GPU",
    "colab": {
      "gpuType": "T4",
      "provenance": []
    },
    "kernelspec": {
      "display_name": "Python 3",
      "name": "python3"
    },
    "language_info": {
      "codemirror_mode": {
        "name": "ipython",
        "version": 3
      },
      "file_extension": ".py",
      "mimetype": "text/x-python",
      "name": "python",
      "nbconvert_exporter": "python",
      "pygments_lexer": "ipython3",
      "version": "3.11.11"
    }
  },
  "nbformat": 4,
  "nbformat_minor": 0
}
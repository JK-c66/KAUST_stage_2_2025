{
  "nbformat": 4,
  "nbformat_minor": 0,
  "metadata": {
    "colab": {
      "provenance": []
    },
    "kernelspec": {
      "name": "python3",
      "display_name": "Python 3"
    },
    "language_info": {
      "name": "python"
    },
    "accelerator": "GPU",
    "gpuClass": "standard"
  },
  "cells": [
    {
      "cell_type": "code",
      "source": [
        "from IPython.display import clear_output"
      ],
      "metadata": {
        "id": "zwfZGneCdQSg"
      },
      "execution_count": 1,
      "outputs": []
    },
    {
      "cell_type": "code",
      "source": [
        "%pip install torch torchvision torchsummary\n",
        "%pip install numpy\n",
        "%pip install matplotlib\n",
        "\n",
        "clear_output()"
      ],
      "metadata": {
        "id": "a9FjTEzAdQ28"
      },
      "execution_count": 2,
      "outputs": []
    },
    {
      "cell_type": "code",
      "execution_count": 3,
      "metadata": {
        "id": "tQaUBH8lmnnr"
      },
      "outputs": [],
      "source": [
        "import torch\n",
        "import numpy as np\n",
        "import torch.nn as nn\n",
        "from torchvision import transforms\n",
        "from torchvision.datasets import MNIST\n",
        "from torch.utils.data.sampler import SubsetRandomSampler\n",
        "from torchsummary import summary\n",
        "import matplotlib.pyplot as plt\n",
        "from mpl_toolkits.axes_grid1 import ImageGrid"
      ]
    },
    {
      "cell_type": "markdown",
      "source": [
        "## Contents\n",
        "\n",
        "Today we'll attempt to create a number image generator through auto encoders. Here's the technique\n",
        "\n",
        "1. The model has 2 parts, an encoder and a decoder\n",
        "2. The encoder takes number image (mnist) and converts it into an embedding/encoding of specified size (output of encoder last layer). by passing it through multiple linear layers.\n",
        "3. The decoder then takes that encoding and attempts to re-create the original image\n",
        "4. During training, our cost function is the difference between generated image and original image. we'll use MSE Loss for this\n",
        "5. Once the training is complete, we'll create our own embeddings of specified size ourselves and run it through the decoder to generate images\n",
        "\n",
        "\n",
        "Note: In this notebook we'll limit ourselves to Linear Layers or BatchNorm's only (and activations). Which means NO CNN, attention, or anything fancier. For this reason, the performance might be questionable. What we wanna see is the model trying to capture the pattern?\n",
        "\n",
        "You need to know:\n",
        "\n",
        "1. **pytorch** (for impelementation)\n",
        "2. a bit of **torch dataloaders and datasets** (not necessary but helps understanding how we're loading data)\n",
        "3. A little bit of **matplotlib** (for result and training trajectory visualization)"
      ],
      "metadata": {
        "id": "gC2jmrtmiUm7"
      }
    },
    {
      "cell_type": "code",
      "source": [
        "batch_size = 64\n",
        "\n",
        "#preprocess the MNIST dataset\n",
        "# Random cropping adds variability, and ToTensor converts images to tensors\n",
        "train_transforms = transforms.Compose([\n",
        "                        transforms.RandomCrop(28, padding=4),\n",
        "                        transforms.ToTensor(),\n",
        "                    ])\n",
        "\n",
        "# TODO 1: Load the MNIST dataset and prepare the DataLoader.\n",
        "# Hint: Use `MNIST` for loading data and `DataLoader` for batching.\n",
        "\n",
        "# Load the MNIST training dataset with transformations\n",
        "train_data = ...\n",
        "# Create a DataLoader for the training dataset\n",
        "train_loader = ..."
      ],
      "metadata": {
        "id": "b83RYTZueJCW",
        "outputId": "6519fe6e-eacc-40d5-9fea-ca06d6521c08",
        "colab": {
          "base_uri": "https://localhost:8080/"
        }
      },
      "execution_count": 4,
      "outputs": [
        {
          "output_type": "stream",
          "name": "stdout",
          "text": [
            "Downloading http://yann.lecun.com/exdb/mnist/train-images-idx3-ubyte.gz\n",
            "Failed to download (trying next):\n",
            "HTTP Error 403: Forbidden\n",
            "\n",
            "Downloading https://ossci-datasets.s3.amazonaws.com/mnist/train-images-idx3-ubyte.gz\n",
            "Downloading https://ossci-datasets.s3.amazonaws.com/mnist/train-images-idx3-ubyte.gz to ./datasets/MNIST/raw/train-images-idx3-ubyte.gz\n"
          ]
        },
        {
          "output_type": "stream",
          "name": "stderr",
          "text": [
            "100%|██████████| 9.91M/9.91M [00:11<00:00, 894kB/s] \n"
          ]
        },
        {
          "output_type": "stream",
          "name": "stdout",
          "text": [
            "Extracting ./datasets/MNIST/raw/train-images-idx3-ubyte.gz to ./datasets/MNIST/raw\n",
            "\n",
            "Downloading http://yann.lecun.com/exdb/mnist/train-labels-idx1-ubyte.gz\n",
            "Failed to download (trying next):\n",
            "HTTP Error 403: Forbidden\n",
            "\n",
            "Downloading https://ossci-datasets.s3.amazonaws.com/mnist/train-labels-idx1-ubyte.gz\n",
            "Downloading https://ossci-datasets.s3.amazonaws.com/mnist/train-labels-idx1-ubyte.gz to ./datasets/MNIST/raw/train-labels-idx1-ubyte.gz\n"
          ]
        },
        {
          "output_type": "stream",
          "name": "stderr",
          "text": [
            "100%|██████████| 28.9k/28.9k [00:00<00:00, 132kB/s]\n"
          ]
        },
        {
          "output_type": "stream",
          "name": "stdout",
          "text": [
            "Extracting ./datasets/MNIST/raw/train-labels-idx1-ubyte.gz to ./datasets/MNIST/raw\n",
            "\n",
            "Downloading http://yann.lecun.com/exdb/mnist/t10k-images-idx3-ubyte.gz\n",
            "Failed to download (trying next):\n",
            "HTTP Error 403: Forbidden\n",
            "\n",
            "Downloading https://ossci-datasets.s3.amazonaws.com/mnist/t10k-images-idx3-ubyte.gz\n",
            "Downloading https://ossci-datasets.s3.amazonaws.com/mnist/t10k-images-idx3-ubyte.gz to ./datasets/MNIST/raw/t10k-images-idx3-ubyte.gz\n"
          ]
        },
        {
          "output_type": "stream",
          "name": "stderr",
          "text": [
            "100%|██████████| 1.65M/1.65M [00:06<00:00, 237kB/s]\n"
          ]
        },
        {
          "output_type": "stream",
          "name": "stdout",
          "text": [
            "Extracting ./datasets/MNIST/raw/t10k-images-idx3-ubyte.gz to ./datasets/MNIST/raw\n",
            "\n",
            "Downloading http://yann.lecun.com/exdb/mnist/t10k-labels-idx1-ubyte.gz\n",
            "Failed to download (trying next):\n",
            "HTTP Error 403: Forbidden\n",
            "\n",
            "Downloading https://ossci-datasets.s3.amazonaws.com/mnist/t10k-labels-idx1-ubyte.gz\n",
            "Downloading https://ossci-datasets.s3.amazonaws.com/mnist/t10k-labels-idx1-ubyte.gz to ./datasets/MNIST/raw/t10k-labels-idx1-ubyte.gz\n"
          ]
        },
        {
          "output_type": "stream",
          "name": "stderr",
          "text": [
            "100%|██████████| 4.54k/4.54k [00:00<00:00, 3.04MB/s]"
          ]
        },
        {
          "output_type": "stream",
          "name": "stdout",
          "text": [
            "Extracting ./datasets/MNIST/raw/t10k-labels-idx1-ubyte.gz to ./datasets/MNIST/raw\n",
            "\n"
          ]
        },
        {
          "output_type": "stream",
          "name": "stderr",
          "text": [
            "\n"
          ]
        }
      ]
    },
    {
      "cell_type": "code",
      "source": [
        "class AutoEncoderGenerator(nn.Module):\n",
        "\n",
        "  def __init__(self, dim_z):\n",
        "    super().__init__()\n",
        "\n",
        "    # Encoder: Compresses the input image into a smaller representation\n",
        "    self.Encoder = nn.Sequential(\n",
        "        # 1024 > 512 > 256 > dim z\n",
        "\n",
        "        nn.Linear(28*28, 1024), # FC layer\n",
        "        nn.LeakyReLU(), # activation layer\n",
        "        nn.BatchNorm1d(1024), # normalization\n",
        "\n",
        "        nn.Linear(1024, 512),\n",
        "        nn.LeakyReLU(),\n",
        "        nn.BatchNorm1d(512),\n",
        "\n",
        "        nn.Linear(512, 256),\n",
        "        nn.LeakyReLU(),\n",
        "\n",
        "        nn.Linear(256, dim_z),\n",
        "        nn.Tanh(), # Ensures encoding values are between -1 and 1\n",
        "      )\n",
        "\n",
        "    # Decoder: Reconstructs the image from the compressed representation\n",
        "\n",
        "    self.Decoder = nn.Sequential(\n",
        "        # TODO 2: Implement the decoder structure.\n",
        "        # Hint: Follow the Encoder's pattern in reverse to reconstruct the image.\n",
        "\n",
        "      )\n",
        "\n",
        "  def forward(self, x):\n",
        "\n",
        "    original_shape = x.shape # Save original shape for reconstruction\n",
        "    x = torch.flatten(x, start_dim=1)  # Flatten the image for the encoder\n",
        "\n",
        "    z = self.Encoder(x)\n",
        "    x = self.Decoder(z)\n",
        "\n",
        "    x = x.view(original_shape)  # Reshape to the original image dimensions\n",
        "\n",
        "    return x\n"
      ],
      "metadata": {
        "id": "iEF-W-XZnB68"
      },
      "execution_count": 5,
      "outputs": []
    },
    {
      "cell_type": "code",
      "source": [
        "dim_z = 128\n",
        "model = AutoEncoderGenerator(dim_z=dim_z)"
      ],
      "metadata": {
        "id": "IFKJOAj5Pbdl"
      },
      "execution_count": 6,
      "outputs": []
    },
    {
      "cell_type": "code",
      "source": [
        "# TODO 3: Add a summary of the model to review its structure and parameters.\n",
        "# Hint: Use `summary` and pass the input shape and device information.\n"
      ],
      "metadata": {
        "colab": {
          "base_uri": "https://localhost:8080/"
        },
        "id": "YWBNQw3LtZd4",
        "outputId": "838a0c3d-b6c5-4725-f233-5322833bb60c"
      },
      "execution_count": 7,
      "outputs": [
        {
          "output_type": "stream",
          "name": "stdout",
          "text": [
            "----------------------------------------------------------------\n",
            "        Layer (type)               Output Shape         Param #\n",
            "================================================================\n",
            "            Linear-1                 [-1, 1024]         803,840\n",
            "         LeakyReLU-2                 [-1, 1024]               0\n",
            "       BatchNorm1d-3                 [-1, 1024]           2,048\n",
            "            Linear-4                  [-1, 512]         524,800\n",
            "         LeakyReLU-5                  [-1, 512]               0\n",
            "       BatchNorm1d-6                  [-1, 512]           1,024\n",
            "            Linear-7                  [-1, 256]         131,328\n",
            "         LeakyReLU-8                  [-1, 256]               0\n",
            "            Linear-9                  [-1, 128]          32,896\n",
            "             Tanh-10                  [-1, 128]               0\n",
            "           Linear-11                  [-1, 256]          33,024\n",
            "        LeakyReLU-12                  [-1, 256]               0\n",
            "           Linear-13                  [-1, 512]         131,584\n",
            "        LeakyReLU-14                  [-1, 512]               0\n",
            "           Linear-15                 [-1, 1024]         525,312\n",
            "        LeakyReLU-16                 [-1, 1024]               0\n",
            "           Linear-17                  [-1, 784]         803,600\n",
            "          Sigmoid-18                  [-1, 784]               0\n",
            "================================================================\n",
            "Total params: 2,989,456\n",
            "Trainable params: 2,989,456\n",
            "Non-trainable params: 0\n",
            "----------------------------------------------------------------\n",
            "Input size (MB): 0.00\n",
            "Forward/backward pass size (MB): 0.08\n",
            "Params size (MB): 11.40\n",
            "Estimated Total Size (MB): 11.49\n",
            "----------------------------------------------------------------\n"
          ]
        }
      ]
    },
    {
      "cell_type": "code",
      "source": [
        "device = 'cuda' if torch.cuda.is_available() else 'cpu'\n",
        "\n",
        "model.to(device)\n",
        "\n",
        "num_epochs = 20\n",
        "lr = 1e-4\n",
        "\n",
        "# TODO 4: Define the optimizer and loss function.\n",
        "# Hint: Use `Adam` for optimization and `MSELoss` for reconstruction loss.\n",
        "optimizer = ...\n",
        "criterion = ..."
      ],
      "metadata": {
        "id": "tXbOcut4fJFV"
      },
      "execution_count": 8,
      "outputs": []
    },
    {
      "cell_type": "code",
      "source": [
        "train_losses = []\n",
        "\n",
        "for i in range(num_epochs):\n",
        "\n",
        "  epoch_weighted_loss = 0\n",
        "  for (X, _) in train_loader:\n",
        "\n",
        "    X = X.to(device)\n",
        "\n",
        "    Xhat = model(X)  # Xhat because we're trying to have the model regenerate what's fed to it (X)\n",
        "\n",
        "\n",
        "    optimizer.zero_grad()\n",
        "\n",
        "    # TODO 5: Perform backward propagation and update the model's parameters.\n",
        "    # Hint: Compute the loss, gradients then take a step\n",
        "\n",
        "\n",
        "    epoch_weighted_loss += loss.item()*len(X)\n",
        "\n",
        "  epoch_loss = epoch_weighted_loss/len(train_loader.dataset)\n",
        "\n",
        "  print(f'epoch {i}/{num_epochs}, loss = {epoch_loss}')\n",
        "\n",
        "  train_losses.append(epoch_loss)"
      ],
      "metadata": {
        "id": "CFXvYta-rxsT",
        "colab": {
          "base_uri": "https://localhost:8080/"
        },
        "outputId": "37481cff-8588-4c28-b21d-45895908b3de"
      },
      "execution_count": 9,
      "outputs": [
        {
          "output_type": "stream",
          "name": "stdout",
          "text": [
            "epoch 0/20, loss = 0.06070761678218842\n",
            "epoch 1/20, loss = 0.035399246317148206\n",
            "epoch 2/20, loss = 0.029308636514345805\n",
            "epoch 3/20, loss = 0.02581974238952001\n",
            "epoch 4/20, loss = 0.023432473900914193\n",
            "epoch 5/20, loss = 0.021771508940060934\n",
            "epoch 6/20, loss = 0.02049717304110527\n",
            "epoch 7/20, loss = 0.01938963963488738\n",
            "epoch 8/20, loss = 0.01844850172797839\n",
            "epoch 9/20, loss = 0.017506113814314207\n",
            "epoch 10/20, loss = 0.016707787363727886\n",
            "epoch 11/20, loss = 0.015980732431014378\n",
            "epoch 12/20, loss = 0.015454950295885403\n",
            "epoch 13/20, loss = 0.01496064887146155\n",
            "epoch 14/20, loss = 0.014522396469116211\n",
            "epoch 15/20, loss = 0.01410423283179601\n",
            "epoch 16/20, loss = 0.013731916869183382\n",
            "epoch 17/20, loss = 0.01334106760819753\n",
            "epoch 18/20, loss = 0.013074053728083769\n",
            "epoch 19/20, loss = 0.012810971807936828\n"
          ]
        }
      ]
    },
    {
      "cell_type": "code",
      "source": [
        "plt.plot(train_losses)"
      ],
      "metadata": {
        "colab": {
          "base_uri": "https://localhost:8080/",
          "height": 447
        },
        "id": "XUwJuIZosq1_",
        "outputId": "5af32008-8ba5-4df5-fad6-b50331af8153"
      },
      "execution_count": 10,
      "outputs": [
        {
          "output_type": "execute_result",
          "data": {
            "text/plain": [
              "[<matplotlib.lines.Line2D at 0x78cb1a3241c0>]"
            ]
          },
          "metadata": {},
          "execution_count": 10
        },
        {
          "output_type": "display_data",
          "data": {
            "text/plain": [
              "<Figure size 640x480 with 1 Axes>"
            ],
            "image/png": "[encoded data removed]"
          },
          "metadata": {}
        }
      ]
    },
    {
      "cell_type": "code",
      "source": [
        "# Helper function to display results\n",
        "def display_image_grid(images, num_rows, num_cols, title_text):\n",
        "\n",
        "    fig = plt.figure(figsize=(num_cols*3., num_rows*3.), )\n",
        "    grid = ImageGrid(fig, 111, nrows_ncols=(num_rows, num_cols), axes_pad=0.15)\n",
        "\n",
        "    for ax, im in zip(grid, images):\n",
        "        ax.imshow(im, cmap=\"gray\")\n",
        "        ax.axis(\"off\")\n",
        "\n",
        "    plt.suptitle(title_text, fontsize=20)\n",
        "    plt.show()"
      ],
      "metadata": {
        "id": "0wBaVZ0UvkOG"
      },
      "execution_count": 11,
      "outputs": []
    },
    {
      "cell_type": "code",
      "source": [
        "# Now we will try some actual generation. We will sample the encodings randomly and then pass them through decoder\n",
        "\n",
        "rows, cols = 2, 7\n",
        "sample_encodings = (torch.rand(rows*cols, dim_z).to(device) - 0.5) * 2 # encoding space: [-1,1)\n",
        "with torch.no_grad():\n",
        "  generations = model.Decoder(sample_encodings).cpu()\n",
        "  generations = generations.reshape(-1, 28, 28, 1)\n",
        "display_image_grid(generations, rows, cols, \"generated_images\")"
      ],
      "metadata": {
        "colab": {
          "base_uri": "https://localhost:8080/",
          "height": 447
        },
        "id": "aO3WkbTiuQQM",
        "outputId": "1f8a0a90-176a-459c-c7e2-0329f11341cd"
      },
      "execution_count": 12,
      "outputs": [
        {
          "output_type": "display_data",
          "data": {
            "text/plain": [
              "<Figure size 2100x600 with 28 Axes>"
            ],
            "image/png": "[encoded data removed]"
          },
          "metadata": {}
        }
      ]
    },
    {
      "cell_type": "markdown",
      "source": [
        "The images aren't too fancy but we can see it's trying to learn.\n",
        "In a few images we can also guess the number it's trying to generate"
      ],
      "metadata": {
        "id": "Zi16wGLUkWJa"
      }
    },
    {
      "cell_type": "code",
      "source": [],
      "metadata": {
        "id": "MXtat3dgXs-9"
      },
      "execution_count": 12,
      "outputs": []
    }
  ]
}